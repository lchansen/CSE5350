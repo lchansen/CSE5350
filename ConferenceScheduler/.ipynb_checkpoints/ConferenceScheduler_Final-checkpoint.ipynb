{
 "cells": [
  {
   "cell_type": "markdown",
   "metadata": {},
   "source": [
    "# Conference Scheduler: Parts 1 and 2\n",
    "\n",
    "Author: Lucas Hansen  \n",
    "Course: CSE5350\n",
    "Date: October 2018  \n",
    "Repository: https://github.com/lchansen/CSE5350  \n",
    "Language: Python 3.6\n",
    "\n",
    "## Notes to Instructor:\n",
    "- Though the assignment documentation specified the inclusion of the code at the end, I felt it more beneficial for reviewers to include the report/write-up inline with the code in this notebook.\n",
    "- If the instructor is not familiar with jupyter/ipython notebooks, this file is composed of cells that either render markdown content or run python code\n",
    "- More information on the workspace environment below\n",
    "- I has to use a line plot (plt.plot) instead of a histogram because for large values of N, the histrgram would not render properly"
   ]
  },
  {
   "cell_type": "markdown",
   "metadata": {},
   "source": [
    "## Computing Envoronment\n",
    "### Operating System\n",
    "- I am developing on OSX\n",
    "- Python, as well as my specific implementation, is platform agnostic\n",
    "\n",
    "### Opening ConferenceScheduler.ipynb\n",
    "1. This file is not meant to be viewed as plain text\n",
    "2. [Download an Anaconda distribution for your OS](https://www.anaconda.com/download)\n",
    "3. Navigate to the project directory\n",
    "4. Run the Command `jupyter notebook`\n",
    "5. You should be directed to your default web browser (http://localhost:8888/tree). If not, follow the instructions printed to the console by jupyter\n",
    "6. Open this File\n",
    "7. [OPTIONAL] [Read More](https://jupyter.readthedocs.io/en/latest/install.html#installing-jupyter-using-anaconda-and-conda)\n",
    "\n",
    "### Running the Code\n",
    "- To view the output of this code, you don't even need to run anything! \n",
    "- When I save the file, all the outputs from each cell are also saved. \n",
    "- If the cell doesn't have anything below it, it doesn't output anything.\n",
    "- If you wish to run the code, you may need to change N/S/K at the top of the code section\n",
    "- Clicking on Help > User Interface Tour gill give you a tutorial on how to run the code\n",
    "- However, to boil it down into simple steps that don't involve learning how to use the IDE:  \n",
    "  \n",
    "\n",
    "1. In the header menu, click Cell>Run All\n",
    "2. View Results\n",
    "\n",
    "**or**\n",
    "\n",
    "1. Click on the first code cell\n",
    "2. Click the 'play' button in the page header to run one cell\n",
    "3. Continue clicking play to progressively run each cell, one at a time"
   ]
  },
  {
   "cell_type": "markdown",
   "metadata": {},
   "source": [
    "# Part 1"
   ]
  },
  {
   "cell_type": "markdown",
   "metadata": {},
   "source": [
    "# Distribution Generation"
   ]
  },
  {
   "cell_type": "markdown",
   "metadata": {},
   "source": [
    "N, S and K are input variables from the project spec  \n",
    "This notebook runs all 4 distributions (and graphs them), thus there is no need to track a `dist` varaible"
   ]
  },
  {
   "cell_type": "code",
   "execution_count": 1,
   "metadata": {
    "collapsed": true
   },
   "outputs": [],
   "source": [
    "N = 100  # N = Number of sessions (MAX = 10,000)\n",
    "S = 500 # S = Number of attendees. (MAX = 100,000)\n",
    "K = 10   # K = Number of sessions per attendee. (MAX = N for uniform and two-tiered distributions;  MAX = 0.1N for Skewed distribution and your distribution)\n",
    "DIST = \"CUSTOM\" # UNIFORM | TIERED | SKEWED | YOURS\n",
    "\n",
    "# N = 1000  # N = Number of sessions (MAX = 10,000)\n",
    "# S = 5000 # S = Number of attendees. (MAX = 100,000)\n",
    "# K = 15   # K = Number of sessions per attendee. (MAX = N for uniform and two-tiered distributions;  MAX = 0.1N for Skewed distribution and your distribution)\n",
    "# DIST = \"TIERED\" # UNIFORM | TIERED | SKEWED | YOURS"
   ]
  },
  {
   "cell_type": "markdown",
   "metadata": {},
   "source": [
    "## Convert Attendee->Session Adjacency List to Session->Attendee\n",
    "\n",
    "### Description\n",
    "- I an only putting `gen_sessions_attendees` up here since these functions must be defined before they are used to show the histogram/plot\n",
    "- In order to visualize the distributions of attendees between sessions, we must convert the attendee_sessions adj. matrix to the sessions_attendee adj. list\n",
    "- Here, we simply loop through each individual attendee in the attendees->sessions adj. list. We then take the index of the attendee, and add that attendee ID to each if his or her sessions' guest lists.\n",
    "\n",
    "### Code"
   ]
  },
  {
   "cell_type": "code",
   "execution_count": 2,
   "metadata": {
    "collapsed": true
   },
   "outputs": [],
   "source": [
    "def gen_sessions_attendees(attendees_sessions, N):\n",
    "    #instantiate 2D array instead of using nested list comprehensions \n",
    "    sessions_attendees = [ [] for _ in range(N)]\n",
    "    for attendee_index, attendee_sessions in enumerate(attendees_sessions):\n",
    "        for session in attendee_sessions:\n",
    "            sessions_attendees[session].append(attendee_index)\n",
    "    return sessions_attendees\n",
    "            \n",
    "def gen_sessions_attendees_count(sessions_attendees):\n",
    "    return [len(attendees) for attendees in sessions_attendees]"
   ]
  },
  {
   "cell_type": "markdown",
   "metadata": {},
   "source": [
    "### Time and Space Complexity  \n",
    "Algorithm is:  \n",
    "- Θ(n) on N. cet. par. There is one loop that generates a list to hold each session's guest list\n",
    "- Θ(n) on S. cet. par. the number computations to generate more attendees increases proportionally with S.\n",
    "- Θ(n) on K. cet. par. increasing K by one unit means that one more computation must be done for each attendee\n",
    "- Θ(S\\*K) on S and K. There is a nested loop to traverse the attendee_sessions itineraries. It's bounds for each level are based on attendees and the number of sessions that attendee will be attending.\n",
    "\n",
    "Therefore, the algorithm is bounded by a time and space complexity Θ(S\\*K) because it is the largest bound seen in the algorithm."
   ]
  },
  {
   "cell_type": "markdown",
   "metadata": {},
   "source": [
    "## Uniform Distrubution\n",
    "\n",
    "### Description  \n",
    "- The outer loop is indexed on attendees, while the inner loop is indexed on sessions that attendee wishes to attend.  \n",
    "- Each cell in this '2D matrix' is simply populated by a function call to get a random number between 0 (first session) and N-1 (last session).  \n",
    "- Assuming ideal random conditions, rotating the martix about 'Sessions' will show that each session has about the same number of attendees.\n",
    "\n",
    "### Code"
   ]
  },
  {
   "cell_type": "code",
   "execution_count": 3,
   "metadata": {
    "collapsed": true
   },
   "outputs": [],
   "source": [
    "from random import random\n",
    "def uniform(N):\n",
    "    return int(N*random())\n",
    "\n",
    "def gen_uniform_list(N, K):\n",
    "    sessions = set()\n",
    "    while len(sessions) < K:\n",
    "        sessions.add(uniform(N))\n",
    "    return list(sessions)\n",
    "\n",
    "def generate_uniform_dist(N, S, K):\n",
    "     return [ gen_uniform_list(N, K) for _ in range(S)]"
   ]
  },
  {
   "cell_type": "markdown",
   "metadata": {},
   "source": [
    "### Time and Space Complexity  \n",
    "Algorithm is:  \n",
    "- Θ(1) on N. cet. par. it is simply a scalar that represents a specific session for an attendee. Increasing the value of N does not change the amount of steps required to generate a distribution.\n",
    "- Θ(n) on S. cet. par. the number computations to generate more attendees increases proportionally with S.\n",
    "- Θ(n) on K. cet. par. increasing K by one unit means that one more computation must be done for each attendee\n",
    "\n",
    "Therefore, the algorithm is bounded by a time and space complexity Θ(n)\n",
    "\n",
    "### Visualization"
   ]
  },
  {
   "cell_type": "code",
   "execution_count": 4,
   "metadata": {},
   "outputs": [
    {
     "data": {
      "image/png": "[encoded data removed]",
      "text/plain": [
       "<Figure size 432x288 with 1 Axes>"
      ]
     },
     "metadata": {},
     "output_type": "display_data"
    },
    {
     "name": "stdout",
     "output_type": "stream",
     "text": [
      "CPU times: user 356 ms, sys: 45 ms, total: 401 ms\n",
      "Wall time: 399 ms\n"
     ]
    }
   ],
   "source": [
    "%%time\n",
    "%matplotlib inline\n",
    "import matplotlib.pyplot as plt\n",
    "attendees_sessions_uniform = generate_uniform_dist(N, S, K)\n",
    "sessions_attendees_uniform = gen_sessions_attendees(attendees_sessions_uniform, N)\n",
    "sessions_attendees_uniform_count = gen_sessions_attendees_count(sessions_attendees_uniform)\n",
    "plt.plot(sessions_attendees_uniform_count)\n",
    "plt.show()"
   ]
  },
  {
   "cell_type": "markdown",
   "metadata": {},
   "source": [
    "## Tiered Distrubution\n",
    "\n",
    "### Description  \n",
    "- The outer loop is indexed on attendees, while the inner loop is indexed on sessions that attendee wishes to attend.\n",
    "- Each cell in this '2D matrix' is simply populated by a function call to get a random number between 0 (first session) and N-1 (last session). \n",
    "- In order to generate the tiers, we need 2 random numbers. the first one determines which tier the user's session will lie in. The second random number follows a uniform distribution within each of the two tiers.\n",
    "- Inverting the martix about 'Sessions' will show that the bottom 10% of sessions will have as many attendees as the upper 90% of sessions (area under each tier will be equal)\n",
    "\n",
    "### Code"
   ]
  },
  {
   "cell_type": "code",
   "execution_count": 5,
   "metadata": {
    "collapsed": true
   },
   "outputs": [],
   "source": [
    "def sessions_tiered(N):\n",
    "    if random() >.5:\n",
    "        return uniform(0.1*N)\n",
    "    else:\n",
    "        return int(.1 * N + uniform(int(N-(.1 * N))))\n",
    "    \n",
    "def gen_tiered_list(N, K):\n",
    "    sessions = set()\n",
    "    while len(sessions) < K:\n",
    "        sessions.add(sessions_tiered(N))\n",
    "    return list(sessions)\n",
    "\n",
    "def generate_tiered_dist(N, S, K):\n",
    "    return [gen_tiered_list(N, K) for _ in range(S)]"
   ]
  },
  {
   "cell_type": "markdown",
   "metadata": {},
   "source": [
    "### Time and Space Complexity  \n",
    "Algorithm is:  \n",
    "- Θ(1) on N. cet. par. it is simply a scalar that represents a specific session for an attendee. Increasing the value of N does not change the amount of steps required to generate a distribution.\n",
    "- Θ(n) on S. cet. par. the number computations to generate more attendees increases proportionally with S.\n",
    "- Θ(n) on K. cet. par. increasing K by one unit means that one more computation must be done for each attendee\n",
    "\n",
    "Therefore, the algorithm is bounded by a time and space complexity Θ(n)\n",
    "\n",
    "### Visualization"
   ]
  },
  {
   "cell_type": "code",
   "execution_count": 6,
   "metadata": {},
   "outputs": [
    {
     "data": {
      "image/png": "[encoded data removed]",
      "text/plain": [
       "<Figure size 432x288 with 1 Axes>"
      ]
     },
     "metadata": {},
     "output_type": "display_data"
    },
    {
     "name": "stdout",
     "output_type": "stream",
     "text": [
      "CPU times: user 76.3 ms, sys: 5.37 ms, total: 81.7 ms\n",
      "Wall time: 79.5 ms\n"
     ]
    }
   ],
   "source": [
    "%%time\n",
    "%matplotlib inline\n",
    "attendees_sessions_tiered = generate_tiered_dist(N, S, K)\n",
    "sessions_attendees_tiered = gen_sessions_attendees(attendees_sessions_tiered, N)\n",
    "sessions_attendees_tiered_count = gen_sessions_attendees_count(sessions_attendees_tiered)\n",
    "plt.plot(sessions_attendees_tiered_count)\n",
    "plt.show()"
   ]
  },
  {
   "cell_type": "markdown",
   "metadata": {},
   "source": [
    "## Skewed Distrubution\n",
    "\n",
    "### Description  \n",
    "- My *skew* variable is an array which includes `N zeros, N-1 ones, N-2 twos ... N-k k's` where k is a session number less than N\n",
    "- This *skew* array is then passed to a function returns the session number from a uniform-randomly generated index of the array\n",
    "- The outer loop of generate_skewed_dist is indexed on attendees, while the inner loop is indexed on sessions that attendee wishes to attend. \n",
    "- Each cell in this '2D matrix' is simply populated by a function call to get a skewed-random number between 0 (first session) and N-1 (last session).\n",
    "- Inverting the martix about 'Sessions' will show a that the number of attendees per session decreases relatively linearly as the session number increases\n",
    "\n",
    "### Code"
   ]
  },
  {
   "cell_type": "code",
   "execution_count": 7,
   "metadata": {
    "collapsed": true
   },
   "outputs": [],
   "source": [
    "def gen_skew_list(N):\n",
    "    skew = []\n",
    "    for curr_session in range(N):\n",
    "        for _ in range(N-curr_session):\n",
    "            skew.append(curr_session)\n",
    "    return skew\n",
    "\n",
    "def session_skewed(N, skew):\n",
    "    return skew[ uniform(len(skew)) ]\n",
    "\n",
    "def gen_skewed_list(N, skew, K):\n",
    "    sessions = set()\n",
    "    while len(sessions) < K:\n",
    "        sessions.add(session_skewed(N, skew))\n",
    "    return list(sessions)\n",
    "\n",
    "def generate_skewed_dist(N, S, K):\n",
    "    skew = gen_skew_list(N)\n",
    "    return [ gen_skewed_list(N, skew, K) for _ in range(S)]"
   ]
  },
  {
   "cell_type": "markdown",
   "metadata": {},
   "source": [
    "### Time and Space Complexity  \n",
    "Algorithm is:  \n",
    "- Θ(n^2) on N. cet. par. the *skew* array has a length N*(N+1)/2 which resolved to a spact and time complexity of Θ(N^2), because there are 2 multiples of N in the equation. \n",
    "- Θ(n) on S. cet. par. the number computations to generate more attendees increases proportionally with S.\n",
    "- Θ(n) on K. cet. par. increasing K by one unit means that one more computation must be done to pick another session for each attendee\n",
    "\n",
    "Therefore, the algorithm is bounded by a time and space complexity Θ(n^2)\n",
    "\n",
    "### Visualization"
   ]
  },
  {
   "cell_type": "code",
   "execution_count": 8,
   "metadata": {},
   "outputs": [
    {
     "data": {
      "image/png": "[encoded data removed]",
      "text/plain": [
       "<Figure size 432x288 with 1 Axes>"
      ]
     },
     "metadata": {},
     "output_type": "display_data"
    },
    {
     "name": "stdout",
     "output_type": "stream",
     "text": [
      "CPU times: user 81.9 ms, sys: 5.17 ms, total: 87.1 ms\n",
      "Wall time: 85 ms\n"
     ]
    }
   ],
   "source": [
    "%%time\n",
    "%matplotlib inline\n",
    "attendees_sessions_skewed = generate_skewed_dist(N, S, K)\n",
    "sessions_attendees_skewed = gen_sessions_attendees(attendees_sessions_skewed, N)\n",
    "sessions_attendees_skewed_count = gen_sessions_attendees_count(sessions_attendees_skewed)\n",
    "plt.plot(sessions_attendees_skewed_count)\n",
    "plt.show()"
   ]
  },
  {
   "cell_type": "markdown",
   "metadata": {},
   "source": [
    "## Custom Distrubution (Negative Exponential Distrubution)\n",
    "\n",
    "### Description  \n",
    "- This distribution is achieved by generating a random numberbetween 0 and N-1, R, then generating a random number between 0 and R to use as the session number choice for the attendee. This distrubution heavily favors the lower session numbers and relatively rately chooses the high session numbers.\n",
    "- This distribution is based on the principle of exponential distribution. I shose this because it seemed like an intersting way to model preferences at a high degree of prefernce towards mainstream speakers, with exponentially less preference towards lesser-knows spakers.\n",
    "- Though there are 2 random numbers being generates the complexity is still Θ(n), since the random number generation is still a constant-time operation)\n",
    "- The outer loop is indexed on attendees, while the inner loop is indexed on sessions that attendee wishes to attend. \n",
    "- Each cell in this '2D matrix' is simply populated by a function call to get a random number between 0 (first session) and N-1 (last session).  \n",
    "- Assuming ideal random conditions, rotating the martix about 'Sessions' will show that each session has exponentially fewer attendees than the former\n",
    "\n",
    "### Code"
   ]
  },
  {
   "cell_type": "code",
   "execution_count": 9,
   "metadata": {
    "collapsed": true
   },
   "outputs": [],
   "source": [
    "def sessions_custom(N):\n",
    "    return int( int(N*random()) * random() )\n",
    "\n",
    "def gen_uniform_list(N, K):\n",
    "    sessions = set()\n",
    "    while len(sessions) < K:\n",
    "        sessions.add(sessions_custom(N))\n",
    "    return list(sessions)\n",
    "\n",
    "def generate_custom_dist(N, S, K):\n",
    "    return [gen_uniform_list(N, K) for _ in range(S)]"
   ]
  },
  {
   "cell_type": "markdown",
   "metadata": {},
   "source": [
    "### Time and Space Complexity  \n",
    "Algorithm is:  \n",
    "- Θ(1) on N. cet. par. it is simply a scalar that represents a specific session for an attendee. Increasing the value of N does not change the amount of steps required to generate a distribution.\n",
    "- Θ(n) on S. cet. par. the number computations to generate more attendees increases proportionally with S.\n",
    "- Θ(n) on K. cet. par. increasing K by one unit means that one more computation must be done for each attendee. \n",
    "\n",
    "Therefore, the algorithm is bounded by a time and space complexity Θ(n)\n",
    "\n",
    "### Visualization"
   ]
  },
  {
   "cell_type": "code",
   "execution_count": 10,
   "metadata": {},
   "outputs": [
    {
     "data": {
      "image/png": "[encoded data removed]",
      "text/plain": [
       "<Figure size 432x288 with 1 Axes>"
      ]
     },
     "metadata": {},
     "output_type": "display_data"
    },
    {
     "name": "stdout",
     "output_type": "stream",
     "text": [
      "CPU times: user 107 ms, sys: 5.69 ms, total: 113 ms\n",
      "Wall time: 110 ms\n"
     ]
    }
   ],
   "source": [
    "%%time\n",
    "%matplotlib inline\n",
    "attendees_sessions_custom = generate_custom_dist(N, S, K)\n",
    "sessions_attendees_custom = gen_sessions_attendees(attendees_sessions_custom, N)\n",
    "sessions_attendees_custom_count = gen_sessions_attendees_count(sessions_attendees_custom)\n",
    "plt.plot(sessions_attendees_custom_count)\n",
    "plt.show()"
   ]
  },
  {
   "cell_type": "markdown",
   "metadata": {},
   "source": [
    "## Finding Pairwise Conflicts\n",
    "\n",
    "### Description  \n",
    "- `gen_pairwise_conflicts` utilizes the combination function to generate unique session conflicts for a given attendee\n",
    "- `gen_all_pairwise_conflicts` applies this function to each attendee's list and aggregates the results\n",
    "- These specific functions do not remove duplicate session conflicts... that comes after\n",
    "\n",
    "### Code"
   ]
  },
  {
   "cell_type": "code",
   "execution_count": 11,
   "metadata": {
    "collapsed": true
   },
   "outputs": [
    {
     "name": "stdout",
     "output_type": "stream",
     "text": [
      "CPU times: user 1.91 ms, sys: 142 µs, total: 2.06 ms\n",
      "Wall time: 2.06 ms\n"
     ]
    }
   ],
   "source": [
    "%%time\n",
    "from itertools import combinations\n",
    "def gen_pairwise_conflicts(attendee_sessions):\n",
    "    return list(combinations(attendee_sessions, 2))\n",
    "\n",
    "def gen_all_pairwise_conflicts(attendees_sessions):\n",
    "    all_conflicts = []\n",
    "    for attendee_sessions in attendees_sessions:\n",
    "        all_conflicts += gen_pairwise_conflicts(attendee_sessions)\n",
    "    return all_conflicts\n",
    "\n",
    "selected_dist = None\n",
    "if DIST == \"UNIFORM\":\n",
    "    selected_dist = attendees_sessions_uniform\n",
    "elif DIST == \"TIERED\":\n",
    "    selected_dist = attendees_sessions_tiered\n",
    "elif DIST == \"SKEWED\":\n",
    "    selected_dist = attendees_sessions_skewed\n",
    "else:\n",
    "    selected_dist = attendees_sessions_custom\n",
    "\n",
    "conflicts = gen_all_pairwise_conflicts(selected_dist)"
   ]
  },
  {
   "cell_type": "markdown",
   "metadata": {},
   "source": [
    "### Time and Space Complexity  \n",
    "Algorithm is:  \n",
    "- O(K^2) == O(K(K-1)/2) == O(K choose 2). `gen_pairwise_conflicts` running time can be modeled by nCr, where n=K and r=2, since the combination function f = nCr is a function that can be used as a bound, much the same as Θ(n) is a nound for f = n\n",
    "- O(S). `gen_all_pairwise_conflicts` has the outer loop that calls the O(K^2) function. `gen_all's` running time withour the call to `gen_pairwise_conflicts` is bound by the number of attendees, S.\n",
    "\n",
    "Therefore, the algorithm is bounded by a time and space complexity O( S*K^2 ), since it results from the combination of 2 asymptotically bound functions"
   ]
  },
  {
   "cell_type": "markdown",
   "metadata": {},
   "source": [
    "## Removing Duplicates: Method 1, Adjacency Matrix\n",
    "\n",
    "\"Duplicate conflicts\" are removed by inserting data into a NxN matrix, using session numbers as matrix indicies. This yields the space complexity of O(N^2), because we generate a NxN matrix to hold conflicts. One advantage of the adjacency matrix is that finding all conflicts for a given session is simply an O(1) operation (indexing the session), and a O(N) operation (you have to loop through that session's conflicts to determine which other sessions have their value set to 1). However, the disadvantage is that it requires O(N^2) space complexity, so it may ot perform well for larve numbers of sessions, but handles well with large values of S and K, as neither cause the space used to increase.\n",
    "\n",
    "Essentially, duplicates are removed by setting values in the matrix to 1 if there is a conflict. If a duplicate conflict comes along, a simple operation simply sets the existing conflict to be 1 again.\n",
    "\n",
    "Printing the adjacency matrix flattens the NxN matrix into 2 1D arrays. P and E generation works by looping through the matrix, adding to the E array when it sees a value of 1 in the cell, and keeping track of the pointer in P."
   ]
  },
  {
   "cell_type": "code",
   "execution_count": 12,
   "metadata": {
    "collapsed": true
   },
   "outputs": [],
   "source": [
    "def gen_unique_conflicts_adj_mtx(conflicts, N):\n",
    "    #construct NxN matrix\n",
    "    sessions_adj = [[0 for _ in range(N)] for _ in range(N)]\n",
    "    for n1, n2 in conflicts:\n",
    "        sessions_adj[n1][n2] = 1\n",
    "        sessions_adj[n2][n1] = 1\n",
    "    return sessions_adj\n",
    "\n",
    "def gen_p_e_adj_mtx(sessions_conflicts_adj):\n",
    "    p = []\n",
    "    e = []\n",
    "    curr_index = 0\n",
    "    for session in sessions_conflicts_adj:\n",
    "        p.append(curr_index+1)\n",
    "        for index, conflict in enumerate(session):\n",
    "            if conflict == 1:\n",
    "                e.append(index)\n",
    "                curr_index += 1\n",
    "    return (p, e)\n",
    "\n",
    "\n",
    "conflicts_adj_mtx = gen_unique_conflicts_adj_mtx(conflicts, N)\n",
    "p, e = gen_p_e_adj_mtx(conflicts_adj_mtx)\n",
    "\n",
    "f = open(\"output_adj_mtx.txt\", 'w')\n",
    "f.write(\"P[]:\\n\")\n",
    "for elem in p:\n",
    "    f.write(\"{}\\n\".format(elem))\n",
    "\n",
    "f.write(\"E[]:\\n\")\n",
    "for elem in e:\n",
    "    f.write(\"{}\\n\".format(elem))\n",
    "f.close()"
   ]
  },
  {
   "cell_type": "markdown",
   "metadata": {},
   "source": [
    "## Removing Duplicates: Method 2, Adjacency List\n",
    "\n",
    "In method 2, we remove duplicate conflicts by inserting every sesion conflict pair into an adjacency list, instead of a matrix. The main difference is the the adjacency list only occupies as much space as there are distinct conflicts. Therefore, this algorithm only requires the space complexity of O(M). This may be more ideal in terms of space, as long as M < N^2, but it is harder to lookup to see if a conflict exists, because it would have to involve a linear search through the second dimension of the adjacency list.\n",
    "\n",
    "\n",
    "Essentially, duplicates are removed by adding a conflicting session to a set, whose contents will not change if a duplicate is trying to be added, then casting it to a list.\n",
    "\n",
    "Printing the adjacency matrix flattens the NxN matrix into 2 1D arrays. P and E generation works by looping through the adjacency list, appending the session's conflicts to E, and keeping track of the pointer in P."
   ]
  },
  {
   "cell_type": "code",
   "execution_count": 13,
   "metadata": {},
   "outputs": [],
   "source": [
    "def gen_unique_conflicts_adj_list(conflicts, N):\n",
    "    sessions_adj = [set() for _ in range(N)]\n",
    "    for n1, n2 in conflicts:\n",
    "        sessions_adj[n1].add(n2)\n",
    "        sessions_adj[n2].add(n1)\n",
    "    for x in range(N):\n",
    "        if x in sessions_adj[x]:\n",
    "            sessions_adj[x].remove(x)\n",
    "    return [list(session) for session in sessions_adj]\n",
    "\n",
    "def gen_p_e_adj_list(conflicts_adj_list):\n",
    "    p = []\n",
    "    e = []\n",
    "    curr_index = 0\n",
    "    for session in conflicts_adj_list:\n",
    "        p.append(curr_index+1)\n",
    "        e += session\n",
    "        curr_index += len(session)\n",
    "    return (p, e)\n",
    "\n",
    "conflicts_adj_list = gen_unique_conflicts_adj_list(conflicts, N)\n",
    "p, e = gen_p_e_adj_list(conflicts_adj_list)\n",
    "\n",
    "f = open(\"output_adj_list.txt\", 'w')\n",
    "f.write(\"P[]:\\n\")\n",
    "for elem in p:\n",
    "    f.write(\"{}\\n\".format(elem))\n",
    "\n",
    "f.write(\"E[]:\\n\")\n",
    "for elem in e:\n",
    "    f.write(\"{}\\n\".format(elem))\n",
    "f.close()"
   ]
  },
  {
   "cell_type": "markdown",
   "metadata": {},
   "source": [
    "## Output"
   ]
  },
  {
   "cell_type": "markdown",
   "metadata": {},
   "source": [
    "- N = Number of sessions (may be reduced to actual number to be scheduled)\n",
    "- M = number of distinct pair-wise session conflicts.\n",
    "- T = Total number of pair-wise session conflicts.\n",
    "- S = Number of attendees.\n",
    "- K = Number of sessions per attendee.\n",
    "- DIST = UNIFORM | TIERED | SKEWED | YOURS\n",
    "- E[] = adjacency list of distinct session conflicts (length = 2M)\n",
    "- P[] = Pointer for each session I, 1 <= I <= N denoting the starting point in E[] of the list of sessions in conflict with session I. That is, the conflicts for session I are indicated in locations E[P[I]], E[P[I]+1], …, E[P[I+1]-1]. \n",
    "- An example output file will be provided on Canvas.\n",
    " \n"
   ]
  },
  {
   "cell_type": "code",
   "execution_count": 14,
   "metadata": {},
   "outputs": [
    {
     "name": "stdout",
     "output_type": "stream",
     "text": [
      "N = 100\n",
      "M = 3503\n",
      "T = 22500\n",
      "S = 500\n",
      "K = 10\n",
      "DIST = CUSTOM\n"
     ]
    }
   ],
   "source": [
    "print(\"N = {}\".format(N))\n",
    "print(\"M = {}\".format(int(len(e)/2)))\n",
    "print(\"T = {}\".format(len(conflicts)))\n",
    "print(\"S = {}\".format(S))\n",
    "print(\"K = {}\".format(K))\n",
    "print(\"DIST = {}\".format(DIST))"
   ]
  },
  {
   "cell_type": "markdown",
   "metadata": {},
   "source": [
    "## Runtime Examples:"
   ]
  },
  {
   "cell_type": "code",
   "execution_count": 15,
   "metadata": {
    "collapsed": true
   },
   "outputs": [],
   "source": [
    "# import time\n",
    "# # N_arr = [100, 500, 1000, 5000, 10000]\n",
    "# # S_arr = [1000, 10000, 25000, 50000, 100000]\n",
    "# # K_arr = [5, 10, 20, 50, 100]\n",
    "# N_arr = [5, 10, 25, 100, 250, 500]\n",
    "# S_arr = [50, 100, 250, 1000, 2500, 5000]\n",
    "# K_arr = [4, 8, 12, 16, 20, 24]\n",
    "# funcs = [generate_uniform_dist, generate_tiered_dist, generate_skewed_dist, generate_custom_dist ]\n",
    "\n",
    "# def run_and_time_distribution(n, s, k, fun):\n",
    "#     start = time.time()\n",
    "#     distro = fun(n, s, k)\n",
    "#     end = time.time()-start\n",
    "#     print(\"elapsed: {} for N:{}, S:{}, K{}\".format(end, n, s, k))\n",
    "    \n",
    "# for fun in funcs:\n",
    "#     print(\"Complexity example, varying N on {}\".format(fun))\n",
    "#     for val in N_arr:\n",
    "#         run_and_time_distribution(val, S, K, fun)\n",
    "\n",
    "#     print(\"Complexity example, varying S on {}\".format(fun))\n",
    "#     for val in S_arr:\n",
    "#         run_and_time_distribution(S, val, K, fun)\n",
    "\n",
    "#     print(\"Complexity example, varying K on on {}\".format(fun))\n",
    "#     for val in K_arr:\n",
    "#         run_and_time_distribution(N, S, val, fun)\n",
    "\n",
    "    "
   ]
  },
  {
   "cell_type": "markdown",
   "metadata": {},
   "source": [
    "# Part 2"
   ]
  },
  {
   "cell_type": "markdown",
   "metadata": {},
   "source": [
    "## Input from Part 1 (run previous cells)"
   ]
  },
  {
   "cell_type": "code",
   "execution_count": 16,
   "metadata": {},
   "outputs": [],
   "source": [
    "P = p\n",
    "E = e\n",
    "N = N\n",
    "M = int(len(e)/2)\n",
    "T = len(conflicts)\n",
    "S = S\n",
    "K = K\n",
    "DIST = DIST"
   ]
  },
  {
   "cell_type": "markdown",
   "metadata": {},
   "source": [
    "## Method 1: Smallest Last Vertex Ordering [OLD]"
   ]
  },
  {
   "cell_type": "markdown",
   "metadata": {},
   "source": [
    "### Convert P[] and E[] to adjacency list"
   ]
  },
  {
   "cell_type": "code",
   "execution_count": null,
   "metadata": {},
   "outputs": [],
   "source": []
  },
  {
   "cell_type": "markdown",
   "metadata": {},
   "source": [
    "### Generate Structure for SLVO\n",
    "Field 0 = Session Number\n",
    "\n",
    "Field 1 = P(I): Pointer to edge list\n",
    "\n",
    "Field 2 = a: Current Degree, b: -1 when deleted, c: Color value\n",
    "\n",
    "Field 3 = a: Pointers for doubly-linked list of vertices of same current degree, b: Pointer for order deleted list"
   ]
  },
  {
   "cell_type": "code",
   "execution_count": 17,
   "metadata": {},
   "outputs": [],
   "source": [
    "# slvo = [[session, set(conflicts), len(conflicts)] for session, conflicts in enumerate(sessions_conflicts_adj_list)]"
   ]
  },
  {
   "cell_type": "code",
   "execution_count": 18,
   "metadata": {},
   "outputs": [],
   "source": [
    "# def smallest_session_degree_idx(slvo):\n",
    "#     smallest_val = 1000000000\n",
    "#     smallest_idx = -1\n",
    "#     for idx, session in enumerate(slvo):\n",
    "#         #only look at verticies that havent been deleted\n",
    "#         if session[2] is not -1:\n",
    "#             if len(session[1]) < smallest_val:\n",
    "#                 smallest_val = len(session[1])\n",
    "#                 smallest_idx = idx\n",
    "#     return smallest_idx"
   ]
  },
  {
   "cell_type": "code",
   "execution_count": 19,
   "metadata": {},
   "outputs": [],
   "source": [
    "# deleted = []\n",
    "\n",
    "# #delete by smallest vertex\n",
    "# while True:\n",
    "#     #get smallest degree vertex\n",
    "#     smallest_degree_idx = smallest_session_degree_idx(slvo)\n",
    "#     if smallest_degree_idx is -1:\n",
    "#         break #deleted all of them\n",
    "        \n",
    "#     #delete smallest degree\n",
    "#     deleted.append(smallest_degree_idx)\n",
    "#     slvo[smallest_degree_idx][2] = -1\n",
    "    \n",
    "    \n",
    "#     #remove the vertex of smallest degree from any vertex it may be connected to (that hasnt been deleted)\n",
    "#     for idx in range(len(slvo)):\n",
    "#         #preserve degree when deleted\n",
    "#         if slvo[idx][2] is not -1:\n",
    "#             if smallest_degree_idx in slvo[idx][1]:\n",
    "#                 slvo[idx][1].remove(smallest_degree_idx)\n",
    "#                 slvo[idx][2] = len(slvo[idx][1])\n",
    "\n",
    "\n",
    "# # color verticies by reverse of order deleted\n",
    "# # first vertex deleted has color 0\n",
    "# #last vertex deleted has greatest color\n",
    "# reverse_deleted = list(reversed(deleted))\n",
    "# for idx, vertex in enumerate(reverse_deleted):\n",
    "#     slvo[vertex][2] = idx"
   ]
  },
  {
   "cell_type": "code",
   "execution_count": 20,
   "metadata": {},
   "outputs": [],
   "source": [
    "# oc = []\n",
    "# dd = []\n",
    "# for vertex in slvo:\n",
    "#     order_colored = vertex[2] #order colored is just the code for the color\n",
    "#     degree_when_deleted = len(vertex[1]) #set of adacent nodes (len==degree) is not modivied after the vertex is deleted\n",
    "#     oc.append(order_colored)\n",
    "#     dd.append(degree_when_deleted)\n",
    "    "
   ]
  },
  {
   "cell_type": "code",
   "execution_count": 21,
   "metadata": {},
   "outputs": [],
   "source": [
    "# %matplotlib inline\n",
    "# import matplotlib.pyplot as plt\n",
    "# plt.scatter(oc, dd)\n",
    "# plt.xlabel(\"Order Colored\")\n",
    "# plt.ylabel(\"Degree When Deleted\")\n",
    "# plt.show()"
   ]
  },
  {
   "cell_type": "code",
   "execution_count": 22,
   "metadata": {},
   "outputs": [],
   "source": [
    "# len(deleted)"
   ]
  },
  {
   "cell_type": "markdown",
   "metadata": {},
   "source": [
    "## Part 2 [NEW]\n",
    "\n",
    "### Convert P[] and E[] to adjacency list"
   ]
  },
  {
   "cell_type": "code",
   "execution_count": 23,
   "metadata": {},
   "outputs": [],
   "source": [
    "sessions_conflicts_adj_list = []\n",
    "for session in range(len(P)):\n",
    "    if session is not len(P)-1:\n",
    "        sessions_conflicts_adj_list.append(E[ P[session]-1 : P[session+1]-1 ])\n",
    "    else:\n",
    "        sessions_conflicts_adj_list.append(E[ P[session]-1 :])"
   ]
  },
  {
   "cell_type": "markdown",
   "metadata": {},
   "source": [
    "### Generate Structure for SLVO\n",
    "Field 0 = Session Number\n",
    "\n",
    "Field 1 = P(I): Pointer to edge list\n",
    "\n",
    "Field 2 = a: Current Degree, b: -1 when deleted, c: Color value\n",
    "\n",
    "Field 3 = a: Pointers for doubly-linked list of vertices of same current degree, b: Pointer for order deleted list"
   ]
  },
  {
   "cell_type": "code",
   "execution_count": 24,
   "metadata": {},
   "outputs": [],
   "source": [
    "slvo = [[session, conflicts, len(conflicts), None] for session, conflicts in enumerate(sessions_conflicts_adj_list)]"
   ]
  },
  {
   "cell_type": "markdown",
   "metadata": {},
   "source": [
    "### Helper Functions"
   ]
  },
  {
   "cell_type": "code",
   "execution_count": 25,
   "metadata": {},
   "outputs": [],
   "source": [
    "from itertools import count, filterfalse\n",
    "\n",
    "def smallest_degree_session(slvo, adjacent):\n",
    "    smallest_val = 1000000000\n",
    "    smallest_idx = -1\n",
    "    for session in adjacent:\n",
    "        #only look at verticies that havent been deleted\n",
    "        if slvo[session][2] > 0:\n",
    "            if slvo[session][2] < smallest_val:\n",
    "                smallest_val = slvo[session][2]\n",
    "                smallest_idx = session\n",
    "    return smallest_idx\n",
    "\n",
    "def adjacent_colors(slvo, vertex):\n",
    "    adjacents = slvo[vertex][1]\n",
    "    colors = []\n",
    "    for adj in adjacents:\n",
    "        color = slvo[adj][2]\n",
    "        if color is not -1:\n",
    "            colors.append(color)\n",
    "    return colors\n",
    "\n",
    "def smallest_int_not_in_list(arr):\n",
    "    colors = set(arr)\n",
    "    color = 0\n",
    "    while color in arr:\n",
    "        color+=1\n",
    "    return color "
   ]
  },
  {
   "cell_type": "markdown",
   "metadata": {},
   "source": [
    "### SLVO Algorithm (Iterative)\n",
    "\n",
    "TODO explain"
   ]
  },
  {
   "cell_type": "code",
   "execution_count": 26,
   "metadata": {},
   "outputs": [],
   "source": [
    "stack = []\n",
    "deleted = [] # tuples: (deleted_vertex, degree_when_deleted)\n",
    "\n",
    "init_smallest = smallest_degree_session(slvo, [x[0] for x in slvo])\n",
    "stack.append(init_smallest)\n",
    "deleted.append( (init_smallest, slvo[init_smallest][2]) )\n",
    "\n",
    "#delete by smallest vertex\n",
    "while len(stack) > 0:\n",
    "    curr_vertex = stack[-1] #top of stack (peek)\n",
    "    \n",
    "    #get adjacent vertex of smallest degree (that hasn't been deleted)\n",
    "    smallest_degree_adj = smallest_degree_session(slvo, slvo[curr_vertex][1])\n",
    "    \n",
    "    #base case, reached vertex, who has all its verticies deleted\n",
    "    if smallest_degree_adj is -1:\n",
    "        stack.pop()\n",
    "        continue\n",
    "        \n",
    "    #delete smallest exting neighbour of curr_vertex\n",
    "    deleted.append( (smallest_degree_adj, slvo[smallest_degree_adj][2]) )\n",
    "    slvo[smallest_degree_adj][2] = -1\n",
    "    \n",
    "    #remove deleted vertex from each of its neighbour's counts\n",
    "    for adj_to_smallest in slvo[smallest_degree_adj][1]:\n",
    "        if slvo[adj_to_smallest][2] > 0:\n",
    "            slvo[adj_to_smallest][2] -= 1\n",
    "    \n",
    "    #add \"deleted\" vertex to stack, and greedily/recursively follow its neighbours\n",
    "    stack.append(smallest_degree_adj)\n",
    "    #End\n",
    "    \n",
    "coloring_order = []\n",
    "degrees_deleted = []\n",
    "\n",
    "reverse_deleted = list(reversed(deleted))\n",
    "\n",
    "count = 0\n",
    "for vertex, degree in reverse_deleted:\n",
    "    adj_colors = adjacent_colors(slvo, vertex)\n",
    "    color = smallest_int_not_in_list(adj_colors)\n",
    "    slvo[vertex][2] = color\n",
    "    \n",
    "    coloring_order.append(count)\n",
    "    degrees_deleted.append(degree)\n",
    "    \n",
    "    count += 1"
   ]
  },
  {
   "cell_type": "code",
   "execution_count": 27,
   "metadata": {},
   "outputs": [],
   "source": [
    "\n",
    "    "
   ]
  },
  {
   "cell_type": "code",
   "execution_count": 28,
   "metadata": {},
   "outputs": [
    {
     "data": {
      "image/png": "[encoded data removed]",
      "text/plain": [
       "<Figure size 432x288 with 1 Axes>"
      ]
     },
     "metadata": {},
     "output_type": "display_data"
    }
   ],
   "source": [
    "%matplotlib inline\n",
    "import matplotlib.pyplot as plt\n",
    "plt.scatter(coloring_order, degrees_deleted)\n",
    "plt.xlabel(\"Order Colored\")\n",
    "plt.ylabel(\"Degree When Deleted\")\n",
    "plt.show()"
   ]
  },
  {
   "cell_type": "markdown",
   "metadata": {},
   "source": []
  },
  {
   "cell_type": "code",
   "execution_count": 36,
   "metadata": {},
   "outputs": [
    {
     "name": "stdout",
     "output_type": "stream",
     "text": [
      "            Colors Used: 53\n",
      "Max Degree When Deleted: 69\n"
     ]
    }
   ],
   "source": [
    "print(\"            Colors Used: {}\".format(len(set([vertex[2] for vertex in slvo]))))\n",
    "print(\"Max Degree When Deleted: {}\".format(max([del_degree for vertex, del_degree in deleted])))"
   ]
  },
  {
   "cell_type": "code",
   "execution_count": 40,
   "metadata": {},
   "outputs": [],
   "source": [
    "# import json\n",
    "# json.dumps(slvo)"
   ]
  },
  {
   "cell_type": "code",
   "execution_count": 41,
   "metadata": {},
   "outputs": [],
   "source": [
    "def svlo_color_adj_list(sessions_conflicts_adj_list):\n",
    "    #generate structure\n",
    "    slvo = [[session, conflicts, len(conflicts)] for session, conflicts in enumerate(sessions_conflicts_adj_list)]\n",
    "    \n",
    "    #Algorithm\n",
    "    stack = []\n",
    "    deleted = [] # tuples: (deleted_vertex, degree_when_deleted)\n",
    "\n",
    "    init_smallest = smallest_degree_session(slvo, [x[0] for x in slvo])\n",
    "    stack.append(init_smallest)\n",
    "    deleted.append( (init_smallest, slvo[init_smallest][2]) )\n",
    "\n",
    "    #delete by smallest vertex\n",
    "    while len(stack) > 0:\n",
    "        curr_vertex = stack[-1] #top of stack (peek)\n",
    "\n",
    "        #get adjacent vertex of smallest degree (that hasn't been deleted)\n",
    "        smallest_degree_adj = smallest_degree_session(slvo, slvo[curr_vertex][1])\n",
    "\n",
    "        #base case, reached vertex, who has all its verticies deleted\n",
    "        if smallest_degree_adj is -1:\n",
    "            stack.pop()\n",
    "            continue\n",
    "\n",
    "        #delete smallest exting neighbour of curr_vertex\n",
    "        deleted.append( (smallest_degree_adj, slvo[smallest_degree_adj][2]) )\n",
    "        slvo[smallest_degree_adj][2] = -1\n",
    "\n",
    "        for adj_to_smallest in slvo[smallest_degree_adj][1]:\n",
    "            if slvo[adj_to_smallest][2] > 0:\n",
    "                slvo[adj_to_smallest][2] -= 1\n",
    "\n",
    "        #add \"deleted\" vertex to stack, to greedily/recursively follow its neighbours\n",
    "        stack.append(smallest_degree_adj)\n",
    "        #End While\n",
    "\n",
    "    reverse_deleted = list(reversed(deleted))\n",
    "    \n",
    "    coloring_order = []\n",
    "    degrees_deleted = []\n",
    "\n",
    "    count = 0\n",
    "    for vertex, degree in reverse_deleted:\n",
    "        adj_colors = adjacent_colors(slvo, vertex)\n",
    "        color = smallest_int_not_in_list(adj_colors)\n",
    "        slvo[vertex][2] = color\n",
    "\n",
    "        coloring_order.append(count)\n",
    "        degrees_deleted.append(degree)\n",
    "\n",
    "        count += 1\n",
    "        \n",
    "    colored_slvo = slvo\n",
    "    return (colored_slvo, reverse_deleted, coloring_order, degrees_deleted,)"
   ]
  },
  {
   "cell_type": "code",
   "execution_count": null,
   "metadata": {},
   "outputs": [],
   "source": []
  }
 ],
 "metadata": {
  "kernelspec": {
   "display_name": "Python 3",
   "language": "python",
   "name": "python3"
  },
  "language_info": {
   "codemirror_mode": {
    "name": "ipython",
    "version": 3
   },
   "file_extension": ".py",
   "mimetype": "text/x-python",
   "name": "python",
   "nbconvert_exporter": "python",
   "pygments_lexer": "ipython3",
   "version": "3.6.4"
  }
 },
 "nbformat": 4,
 "nbformat_minor": 2
}
