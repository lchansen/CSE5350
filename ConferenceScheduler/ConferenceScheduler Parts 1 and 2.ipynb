{
 "cells": [
  {
   "cell_type": "markdown",
   "metadata": {},
   "source": [
    "# Conference Scheduler: Parts 1 and 2\n",
    "\n",
    "Author: Lucas Hansen  \n",
    "Course: **CSE 5350**  \n",
    "Date: October 2018  \n",
    "Repository: https://github.com/lchansen/CSE5350  \n",
    "Language: Python 3.6  \n",
    "\n",
    "## Notes to Instructor:\n",
    "- Though the assignment documentation specified the inclusion of the code at the end, I felt it more beneficial for reviewers to include the report/write-up inline with the code in this notebook.\n",
    "- If the instructor is not familiar with jupyter/ipython notebooks, this file is composed of cells that either render markdown content or run python code\n",
    "- More information on the workspace environment below\n",
    "- I has to use a line plot (plt.plot) instead of a histogram because for large values of N, the histrgram would not render properly"
   ]
  },
  {
   "cell_type": "markdown",
   "metadata": {},
   "source": [
    "## Computing Envoronment\n",
    "### Operating System\n",
    "- I am developing on OSX\n",
    "- Python, as well as my specific implementation, is platform agnostic\n",
    "\n",
    "### Opening ConferenceScheduler.ipynb\n",
    "1. This file is not meant to be viewed as plain text\n",
    "2. [Download an Anaconda distribution for your OS](https://www.anaconda.com/download)\n",
    "3. Navigate to the project directory\n",
    "4. Run the Command `jupyter notebook`\n",
    "5. You should be directed to your default web browser (http://localhost:8888/tree). If not, follow the instructions printed to the console by jupyter\n",
    "6. Open this File\n",
    "7. [OPTIONAL] [Read More](https://jupyter.readthedocs.io/en/latest/install.html#installing-jupyter-using-anaconda-and-conda)\n",
    "\n",
    "### Running the Code\n",
    "- To view the output of this code, you don't even need to run anything! \n",
    "- If the cell doesn't have anything below it, it doesn't output anything.\n",
    "- If you wish to run the code, you may need to change N/S/K at the top of the code section\n",
    "- Clicking on Help > User Interface Tour gill give you a tutorial on how to run the code\n",
    "\n",
    "Boiling it down into simple steps that don't involve learning how to use the IDE:  \n",
    "1. In the header menu, click Cell>Run All\n",
    "2. View Results\n",
    "\n",
    "**or**\n",
    "\n",
    "1. Click on the first code cell\n",
    "2. Click the 'play' button in the page header to run one cell\n",
    "3. Continue clicking play to progressively run each cell, one at a time"
   ]
  },
  {
   "cell_type": "markdown",
   "metadata": {},
   "source": [
    "# Part 1 (Updated Since Turned in on October 11th)"
   ]
  },
  {
   "cell_type": "markdown",
   "metadata": {},
   "source": [
    "# Distribution Generation"
   ]
  },
  {
   "cell_type": "markdown",
   "metadata": {},
   "source": [
    "N, S and K are input variables from the project spec  \n",
    "This notebook runs all 4 distributions (and graphs them), thus there is no need to track a `dist` varaible"
   ]
  },
  {
   "cell_type": "code",
   "execution_count": 1,
   "metadata": {
    "collapsed": true
   },
   "outputs": [],
   "source": [
    "N = 100  # N = Number of sessions (MAX = 10,000)\n",
    "S = 500 # S = Number of attendees. (MAX = 100,000)\n",
    "K = 10   # K = Number of sessions per attendee. (MAX = N for uniform and two-tiered distributions;  MAX = 0.1N for Skewed distribution and your distribution)\n",
    "DIST = \"UNIFORM\" # UNIFORM | TIERED | SKEWED | YOURS"
   ]
  },
  {
   "cell_type": "markdown",
   "metadata": {},
   "source": [
    "## Convert Attendee->Session Adjacency List to Session->Attendee\n",
    "\n",
    "### Description\n",
    "I am only putting `gen_sessions_attendees` up here since these functions must be defined before they are used to show the histogram/plot. In order to visualize the distributions of attendees between sessions, we must convert the attendee_sessions adj. matrix to the sessions_attendee adjacency list. Here, we simply loop through each individual attendee in the attendees->sessions adj. list. We then take the index of the attendee, and add that attendee ID to each if his or her sessions' guest lists.\n",
    "\n",
    "### Code"
   ]
  },
  {
   "cell_type": "code",
   "execution_count": 2,
   "metadata": {
    "collapsed": true
   },
   "outputs": [],
   "source": [
    "def gen_sessions_attendees(attendees_sessions, N):\n",
    "    #instantiate 2D array instead of using nested list comprehensions \n",
    "    sessions_attendees = [ [] for _ in range(N)]\n",
    "    for attendee_index, attendee_sessions in enumerate(attendees_sessions):\n",
    "        for session in attendee_sessions:\n",
    "            sessions_attendees[session].append(attendee_index)\n",
    "    return sessions_attendees\n",
    "            \n",
    "def gen_sessions_attendees_count(sessions_attendees):\n",
    "    return [len(attendees) for attendees in sessions_attendees]"
   ]
  },
  {
   "cell_type": "markdown",
   "metadata": {},
   "source": [
    "### Time and Space Complexity  \n",
    "\n",
    "Algorithm is:  \n",
    "\n",
    "- O(n) on N. There is one loop that generates a list to hold each session's guest list\n",
    "\n",
    "- O(n) on S. The number computations to generate more attendees increases linearly with S.\n",
    "\n",
    "- O(n) on K. Increasing K by one unit means that one more computation must be done for each attendee\n",
    "\n",
    "- O(S\\*K) on S and K. There is a nested loop to traverse the attendee_sessions itineraries. It's bounds for each level are based on attendees and the number of sessions that attendee will be attending.\n",
    "\n",
    "Therefore, the algorithm is bounded by a time and space complexity O(S\\*K) because it is the largest bound seen in the algorithm."
   ]
  },
  {
   "cell_type": "markdown",
   "metadata": {},
   "source": [
    "## Uniform Distrubution\n",
    "\n",
    "### Description  \n",
    "The outer loop is indexed on attendees, while the inner loop is indexed on sessions that attendee wishes to attend. Each cell in this '2D matrix' is simply populated by a function call to get a random number between 0 (first session) and N-1 (last session). Assuming ideal random conditions, rotating the martix about 'Sessions' will show that each session has about the same number of attendees.\n",
    "\n",
    "### Code"
   ]
  },
  {
   "cell_type": "code",
   "execution_count": 3,
   "metadata": {
    "collapsed": true
   },
   "outputs": [],
   "source": [
    "from random import random\n",
    "def uniform(N):\n",
    "    return int(N*random())\n",
    "\n",
    "def gen_uniform_list(N, K):\n",
    "    sessions = set()\n",
    "    while len(sessions) < K:\n",
    "        sessions.add(uniform(N))\n",
    "    return list(sessions)\n",
    "\n",
    "def generate_uniform_dist(N, S, K):\n",
    "     return [ gen_uniform_list(N, K) for _ in range(S)]"
   ]
  },
  {
   "cell_type": "markdown",
   "metadata": {},
   "source": [
    "### Time and Space Complexity  \n",
    "\n",
    "Algorithm is:  \n",
    "\n",
    "- O(1) on N. It is simply a scalar that represents a specific session for an attendee. Increasing the value of N does not change the amount of steps required to generate a distribution.\n",
    "\n",
    "- O(n) on S. The number computations and storage space used to generate more attendees increases proportionally with S.\n",
    "\n",
    "- O(n) on K. Increasing K by one unit means that one more computation must be done for each attendee, and one more unit of storage space must be used. \n",
    "\n",
    "Therefore, the overall algorithm is bounded by a time and space complexity of O(SK), each S and K linearly affect both running time and storage space used (storage apace referring to the generated output)\n",
    "\n",
    "### Visualization"
   ]
  },
  {
   "cell_type": "code",
   "execution_count": 4,
   "metadata": {},
   "outputs": [
    {
     "data": {
      "image/png": "[encoded data removed]",
      "text/plain": [
       "<Figure size 432x288 with 1 Axes>"
      ]
     },
     "metadata": {},
     "output_type": "display_data"
    },
    {
     "name": "stdout",
     "output_type": "stream",
     "text": [
      "CPU times: user 349 ms, sys: 43.8 ms, total: 393 ms\n",
      "Wall time: 391 ms\n"
     ]
    }
   ],
   "source": [
    "%%time\n",
    "%matplotlib inline\n",
    "import matplotlib.pyplot as plt\n",
    "attendees_sessions_uniform = generate_uniform_dist(N, S, K)\n",
    "sessions_attendees_uniform = gen_sessions_attendees(attendees_sessions_uniform, N)\n",
    "sessions_attendees_uniform_count = gen_sessions_attendees_count(sessions_attendees_uniform)\n",
    "plt.plot(sessions_attendees_uniform_count)\n",
    "plt.show()"
   ]
  },
  {
   "cell_type": "markdown",
   "metadata": {},
   "source": [
    "## Tiered Distrubution\n",
    "\n",
    "### Description  \n",
    "The outer loop is indexed on attendees, while the inner loop is indexed on sessions that attendee wishes to attend. Each cell in this '2D matrix' is simply populated by a function call to get a random number between 0 (first session) and N-1 (last session). In order to generate the tiers, we need 2 random numbers. the first one determines which tier the user's session will lie in. The second random number follows a uniform distribution within each of the two tiers. Inverting the martix about 'Sessions' will show that the bottom 10% of sessions will have as many attendees as the upper 90% of sessions (area under each tier will be equal).\n",
    "\n",
    "### Code"
   ]
  },
  {
   "cell_type": "code",
   "execution_count": 5,
   "metadata": {
    "collapsed": true
   },
   "outputs": [],
   "source": [
    "def sessions_tiered(N):\n",
    "    if random() >.5:\n",
    "        return uniform(0.1*N)\n",
    "    else:\n",
    "        return int(.1 * N + uniform(int(N-(.1 * N))))\n",
    "    \n",
    "def gen_tiered_list(N, K):\n",
    "    sessions = set()\n",
    "    while len(sessions) < K:\n",
    "        sessions.add(sessions_tiered(N))\n",
    "    return list(sessions)\n",
    "\n",
    "def generate_tiered_dist(N, S, K):\n",
    "    return [gen_tiered_list(N, K) for _ in range(S)]"
   ]
  },
  {
   "cell_type": "markdown",
   "metadata": {},
   "source": [
    "### Time and Space Complexity  \n",
    "\n",
    "Algorithm is:  \n",
    "\n",
    "- O(1) on N. It is simply a scalar that represents a specific session for an attendee. Increasing the value of N does not change the amount of steps required to generate a distribution.\n",
    "\n",
    "- O(n) on S. The number computations and storage space used to generate more attendees increases linearly with S.\n",
    "\n",
    "- O(n) on K. Increasing K by one unit means that one more computation must be done for each attendee, one more unit of storage space must also be occupied\n",
    "\n",
    "Therefore, the algorithm is bounded by a time and space complexity O(SK). Each S and K linearly affect both running time and storage space used (storage apace referring to the generated output)\n",
    "\n",
    "### Visualization"
   ]
  },
  {
   "cell_type": "code",
   "execution_count": 6,
   "metadata": {},
   "outputs": [
    {
     "data": {
      "image/png": "[encoded data removed]",
      "text/plain": [
       "<Figure size 432x288 with 1 Axes>"
      ]
     },
     "metadata": {},
     "output_type": "display_data"
    },
    {
     "name": "stdout",
     "output_type": "stream",
     "text": [
      "CPU times: user 76.4 ms, sys: 4.65 ms, total: 81.1 ms\n",
      "Wall time: 79.6 ms\n"
     ]
    }
   ],
   "source": [
    "%%time\n",
    "%matplotlib inline\n",
    "attendees_sessions_tiered = generate_tiered_dist(N, S, K)\n",
    "sessions_attendees_tiered = gen_sessions_attendees(attendees_sessions_tiered, N)\n",
    "sessions_attendees_tiered_count = gen_sessions_attendees_count(sessions_attendees_tiered)\n",
    "plt.plot(sessions_attendees_tiered_count)\n",
    "plt.show()"
   ]
  },
  {
   "cell_type": "markdown",
   "metadata": {},
   "source": [
    "## Skewed Distrubution\n",
    "\n",
    "### Description  \n",
    "My *skew* variable is an array which includes `N zeros, N-1 ones, N-2 twos ... N-k k's` where k is a session number less than N. This *skew* array is then passed to a function returns the session number from a uniform-randomly generated index of the array. The outer loop of generate_skewed_dist is indexed on attendees, while the inner loop is indexed on sessions that attendee wishes to attend. Each cell in this '2D matrix' is simply populated by a function call to get a skewed-random number between 0 (first session) and N-1 (last session). Inverting the martix about 'Sessions' will show a that the number of attendees per session decreases relatively linearly as the session number increases.\n",
    "\n",
    "### Code"
   ]
  },
  {
   "cell_type": "code",
   "execution_count": 7,
   "metadata": {
    "collapsed": true
   },
   "outputs": [],
   "source": [
    "def gen_skew_list(N):\n",
    "    skew = []\n",
    "    for curr_session in range(N):\n",
    "        for _ in range(N-curr_session):\n",
    "            skew.append(curr_session)\n",
    "    return skew\n",
    "\n",
    "def session_skewed(N, skew):\n",
    "    return skew[ uniform(len(skew)) ]\n",
    "\n",
    "def gen_skewed_list(N, skew, K):\n",
    "    sessions = set()\n",
    "    while len(sessions) < K:\n",
    "        sessions.add(session_skewed(N, skew))\n",
    "    return list(sessions)\n",
    "\n",
    "def generate_skewed_dist(N, S, K):\n",
    "    skew = gen_skew_list(N)\n",
    "    return [ gen_skewed_list(N, skew, K) for _ in range(S)]"
   ]
  },
  {
   "cell_type": "markdown",
   "metadata": {},
   "source": [
    "### Time and Space Complexity  \n",
    "Algorithm is:  \n",
    "\n",
    "- O(n^2) on N. The *skew* array has a length N*(N+1)/2 which resolve to a space and time complexity of O(N^2) because there are 2 multiples of N in the equation. \n",
    "\n",
    "- O(n) on S. The number computations and storage space used to generate more attendees increases linearly with S.\n",
    "\n",
    "- O(n) on K. Increasing K by one unit means that one more computation must be done to pick another session for each attendee, one more unit of storage must also be taken.\n",
    "\n",
    "The running time is asymptotically bound by O(SK) in one part of the algorithm. `gen_skew_list` however is only run once each time `generate_skewed_dist` is executed. `gen_skew_list` has a running time and space that is asymptotically bounded by the function O(N^2). Therefore, the algorithm is bounded by a time and space complexity O(SK + N^2), again, since SK and N^2 are disjoint operations within the same algorithm.\n",
    "\n",
    "### Visualization"
   ]
  },
  {
   "cell_type": "code",
   "execution_count": 8,
   "metadata": {},
   "outputs": [
    {
     "data": {
      "image/png": "[encoded data removed]",
      "text/plain": [
       "<Figure size 432x288 with 1 Axes>"
      ]
     },
     "metadata": {},
     "output_type": "display_data"
    },
    {
     "name": "stdout",
     "output_type": "stream",
     "text": [
      "CPU times: user 80.3 ms, sys: 5.31 ms, total: 85.6 ms\n",
      "Wall time: 83.3 ms\n"
     ]
    }
   ],
   "source": [
    "%%time\n",
    "%matplotlib inline\n",
    "attendees_sessions_skewed = generate_skewed_dist(N, S, K)\n",
    "sessions_attendees_skewed = gen_sessions_attendees(attendees_sessions_skewed, N)\n",
    "sessions_attendees_skewed_count = gen_sessions_attendees_count(sessions_attendees_skewed)\n",
    "plt.plot(sessions_attendees_skewed_count)\n",
    "plt.show()"
   ]
  },
  {
   "cell_type": "markdown",
   "metadata": {},
   "source": [
    "## Custom Distrubution (Negative Exponential Distrubution)\n",
    "\n",
    "### Description  \n",
    "This distribution is achieved by generating a random numberbetween 0 and N-1, R, then generating a random number between 0 and R to use as the session number choice for the attendee. This distrubution heavily favors the lower session numbers and relatively rately chooses the high session numbers. This distribution is based on the principle of exponential distribution. I shose this because it seemed like an intersting way to model preferences at a high degree of prefernce towards mainstream speakers, with exponentially less preference towards lesser-knows spakers. Though there are 2 random numbers being generates the complexity is still O(n), since the random number generation is still a constant-time operation). The outer loop is indexed on attendees, while the inner loop is indexed on sessions that attendee wishes to attend. Each cell in this '2D matrix' is simply populated by a function call to get a random number between 0 (first session) and N-1 (last session). Assuming ideal random conditions, rotating the martix about 'Sessions' will show that each session has exponentially fewer attendees than the former.\n",
    "\n",
    "### Code"
   ]
  },
  {
   "cell_type": "code",
   "execution_count": 9,
   "metadata": {
    "collapsed": true
   },
   "outputs": [],
   "source": [
    "def sessions_custom(N):\n",
    "    return int( int(N*random()) * random() )\n",
    "\n",
    "def gen_uniform_list(N, K):\n",
    "    sessions = set()\n",
    "    while len(sessions) < K:\n",
    "        sessions.add(sessions_custom(N))\n",
    "    return list(sessions)\n",
    "\n",
    "def generate_custom_dist(N, S, K):\n",
    "    return [gen_uniform_list(N, K) for _ in range(S)]"
   ]
  },
  {
   "cell_type": "markdown",
   "metadata": {},
   "source": [
    "### Time and Space Complexity  \n",
    "Algorithm is:  \n",
    "\n",
    "- O(1) on N. It is simply a scalar that represents a specific session for an attendee. Even though we have 2 calls to random() here (as opposed to UNIFORM, increasing the value of N does not change the relative amount of steps required to generate a distribution.\n",
    "\n",
    "- O(n) on S. The number computations and storage space used to generate more attendees increases linearly with S.\n",
    "\n",
    "- O(n) on K. Increasing K by one unit means that one more computation must be done for each attendee, one more unit of data must be used too.\n",
    "\n",
    "Therefore, the algorithm is bounded by a time and space complexity O(SK)\n",
    "\n",
    "### Visualization"
   ]
  },
  {
   "cell_type": "code",
   "execution_count": 10,
   "metadata": {},
   "outputs": [
    {
     "data": {
      "image/png": "[encoded data removed]",
      "text/plain": [
       "<Figure size 432x288 with 1 Axes>"
      ]
     },
     "metadata": {},
     "output_type": "display_data"
    },
    {
     "name": "stdout",
     "output_type": "stream",
     "text": [
      "CPU times: user 107 ms, sys: 8.65 ms, total: 115 ms\n",
      "Wall time: 110 ms\n"
     ]
    }
   ],
   "source": [
    "%%time\n",
    "%matplotlib inline\n",
    "attendees_sessions_custom = generate_custom_dist(N, S, K)\n",
    "sessions_attendees_custom = gen_sessions_attendees(attendees_sessions_custom, N)\n",
    "sessions_attendees_custom_count = gen_sessions_attendees_count(sessions_attendees_custom)\n",
    "plt.plot(sessions_attendees_custom_count)\n",
    "plt.show()\n"
   ]
  },
  {
   "cell_type": "markdown",
   "metadata": {},
   "source": [
    "## Finding Pairwise Conflicts\n",
    "\n",
    "### Description  \n",
    "The function `gen_pairwise_conflicts` utilizes the combination function to generate unique session conflicts for a given attendee. The function `gen_all_pairwise_conflicts` applies this function to each attendee's list and aggregates the results. These specific functions do not remove duplicate session conflicts. That happens later.\n",
    "\n",
    "### Code"
   ]
  },
  {
   "cell_type": "code",
   "execution_count": 11,
   "metadata": {
    "collapsed": true
   },
   "outputs": [
    {
     "name": "stdout",
     "output_type": "stream",
     "text": [
      "CPU times: user 2.03 ms, sys: 130 µs, total: 2.16 ms\n",
      "Wall time: 2.16 ms\n"
     ]
    }
   ],
   "source": [
    "%%time\n",
    "from itertools import combinations\n",
    "def gen_pairwise_conflicts(attendee_sessions):\n",
    "    return list(combinations(attendee_sessions, 2))\n",
    "\n",
    "def gen_all_pairwise_conflicts(attendees_sessions):\n",
    "    all_conflicts = []\n",
    "    for attendee_sessions in attendees_sessions:\n",
    "        all_conflicts += gen_pairwise_conflicts(attendee_sessions)\n",
    "    return all_conflicts\n",
    "\n",
    "selected_dist = None\n",
    "if DIST == \"UNIFORM\":\n",
    "    selected_dist = attendees_sessions_uniform\n",
    "elif DIST == \"TIERED\":\n",
    "    selected_dist = attendees_sessions_tiered\n",
    "elif DIST == \"SKEWED\":\n",
    "    selected_dist = attendees_sessions_skewed\n",
    "else:\n",
    "    selected_dist = attendees_sessions_custom\n",
    "\n",
    "conflicts = gen_all_pairwise_conflicts(selected_dist)"
   ]
  },
  {
   "cell_type": "markdown",
   "metadata": {},
   "source": [
    "### Time and Space Complexity  \n",
    "Algorithm is:  \n",
    "\n",
    "- O(K^2) == O(K(K-1)/2) == O(K choose 2). `gen_pairwise_conflicts` running time can be modeled by nCr, where n=K and r=2. O(K choose 2) simplifies to O(K^2). \n",
    "\n",
    "- O(S). `gen_all_pairwise_conflicts` has the outer loop that calls the O(K^2) function. `gen_all's` running time withour the call to `gen_pairwise_conflicts` is bound by the number of attendees, S.\n",
    "\n",
    "Therefore, the overall algorithm is bounded by a time and space complexity O( S*K^2 ), since it results from the combination of 2 functions that are O(S) and O(K^2)"
   ]
  },
  {
   "cell_type": "markdown",
   "metadata": {},
   "source": [
    "## Removing Duplicates: Method 1, Adjacency Matrix\n",
    "\n",
    "\"Duplicate conflicts\" are removed by inserting data into a NxN matrix, using session numbers as matrix indicies. This yields the space complexity of O(N^2), because we generate a NxN matrix to hold conflicts. One advantage of the adjacency matrix is that finding all conflicts for a given session is simply an O(1) operation (indexing the session), and a O(N) operation (you have to loop through that session's conflicts to determine which other sessions have their value set to 1). However, the disadvantage is that it requires O(N^2) space complexity, so it may ot perform well for larve numbers of sessions, but handles well with large values of S and K, as neither cause the space used to increase.\n",
    "\n",
    "The biggest advantage is that you can find out of two sessions have conflicts in O(1) time, since youre checking two indicies to get a final value of 0 or 1.\n",
    "\n",
    "Essentially, duplicates are removed by setting values in the matrix to 1 if there is a conflict. If a duplicate conflict comes along, a simple operation simply sets the existing conflict to be 1 again.\n",
    "\n",
    "Printing the adjacency matrix flattens the NxN matrix into 2 1D arrays. P and E generation works by looping through the matrix, adding to the E array when it sees a value of 1 in the cell, and keeping track of the pointer in P."
   ]
  },
  {
   "cell_type": "code",
   "execution_count": 12,
   "metadata": {
    "collapsed": true
   },
   "outputs": [],
   "source": [
    "def gen_unique_conflicts_adj_mtx(conflicts, N):\n",
    "    #construct NxN matrix\n",
    "    sessions_adj = [[0 for _ in range(N)] for _ in range(N)]\n",
    "    for n1, n2 in conflicts:\n",
    "        sessions_adj[n1][n2] = 1\n",
    "        sessions_adj[n2][n1] = 1\n",
    "    return sessions_adj\n",
    "\n",
    "def gen_p_e_adj_mtx(sessions_conflicts_adj):\n",
    "    p = []\n",
    "    e = []\n",
    "    curr_index = 0\n",
    "    for session in sessions_conflicts_adj:\n",
    "        p.append(curr_index+1)\n",
    "        for index, conflict in enumerate(session):\n",
    "            if conflict == 1:\n",
    "                e.append(index)\n",
    "                curr_index += 1\n",
    "    return (p, e)\n",
    "\n",
    "\n",
    "conflicts_adj_mtx = gen_unique_conflicts_adj_mtx(conflicts, N)\n",
    "p, e = gen_p_e_adj_mtx(conflicts_adj_mtx)\n",
    "\n",
    "f = open(\"output_adj_mtx.txt\", 'w')\n",
    "f.write(\"P[]:\\n\")\n",
    "for elem in p:\n",
    "    f.write(\"{}\\n\".format(elem))\n",
    "\n",
    "f.write(\"E[]:\\n\")\n",
    "for elem in e:\n",
    "    f.write(\"{}\\n\".format(elem))\n",
    "f.close()"
   ]
  },
  {
   "cell_type": "markdown",
   "metadata": {},
   "source": [
    "## Removing Duplicates: Method 2, Adjacency List\n",
    "\n",
    "In method 2, we remove duplicate conflicts by inserting every sesion conflict pair into an adjacency list, instead of a matrix. The main difference is the the adjacency list only occupies as much space as there are distinct conflicts. Therefore, this algorithm only requires the space complexity of O(M). This may be more ideal in terms of space, as long as M < N^2, but it is harder to lookup to see if a conflict exists, because it would have to involve a linear search through the second dimension of the adjacency list.\n",
    "\n",
    "As time goes, this algorithm's time is asymptotically bound by O(MN)\n",
    "\n",
    "Essentially, duplicates are removed by adding a conflicting session to a set, whose contents will not change if a duplicate is trying to be added, then casting it to a list.\n",
    "\n",
    "Printing the adjacency matrix flattens the NxN matrix into 2 1D arrays. P and E generation works by looping through the adjacency list, appending the session's conflicts to E, and keeping track of the pointer in P."
   ]
  },
  {
   "cell_type": "code",
   "execution_count": 13,
   "metadata": {},
   "outputs": [],
   "source": [
    "def gen_unique_conflicts_adj_list(conflicts, N):\n",
    "    sessions_adj = [set() for _ in range(N)]\n",
    "    for n1, n2 in conflicts:\n",
    "        sessions_adj[n1].add(n2)\n",
    "        sessions_adj[n2].add(n1)\n",
    "    for x in range(N):\n",
    "        if x in sessions_adj[x]:\n",
    "            sessions_adj[x].remove(x)\n",
    "    return [list(session) for session in sessions_adj]\n",
    "\n",
    "def gen_p_e_adj_list(conflicts_adj_list):\n",
    "    p = []\n",
    "    e = []\n",
    "    curr_index = 0\n",
    "    for session in conflicts_adj_list:\n",
    "        p.append(curr_index+1)\n",
    "        e += session\n",
    "        curr_index += len(session)\n",
    "    return (p, e)\n",
    "\n",
    "conflicts_adj_list = gen_unique_conflicts_adj_list(conflicts, N)\n",
    "p, e = gen_p_e_adj_list(conflicts_adj_list)\n",
    "\n",
    "f = open(\"output_adj_list.txt\", 'w')\n",
    "f.write(\"P[]:\\n\")\n",
    "for elem in p:\n",
    "    f.write(\"{}\\n\".format(elem))\n",
    "\n",
    "f.write(\"E[]:\\n\")\n",
    "for elem in e:\n",
    "    f.write(\"{}\\n\".format(elem))\n",
    "f.close()"
   ]
  },
  {
   "cell_type": "markdown",
   "metadata": {},
   "source": [
    "## Output"
   ]
  },
  {
   "cell_type": "markdown",
   "metadata": {},
   "source": [
    "\n",
    "- N = Number of sessions (may be reduced to actual number to be scheduled)\n",
    "\n",
    "- M = number of distinct pair-wise session conflicts.\n",
    "\n",
    "- T = Total number of pair-wise session conflicts.\n",
    "\n",
    "- S = Number of attendees.\n",
    "\n",
    "- K = Number of sessions per attendee.\n",
    "\n",
    "- DIST = UNIFORM | TIERED | SKEWED | YOURS\n",
    "\n",
    "- E[] = adjacency list of distinct session conflicts (length = 2M)\n",
    "\n",
    "- P[] = Pointer for each session I, 1 <= I <= N denoting the starting point in E[] of the list of sessions in conflict with session I. That is, the conflicts for session I are indicated in locations E[P[I]], E[P[I]+1], …, E[P[I+1]-1]. \n",
    "\n",
    "- An example output file will be provided on Canvas."
   ]
  },
  {
   "cell_type": "code",
   "execution_count": 14,
   "metadata": {},
   "outputs": [
    {
     "name": "stdout",
     "output_type": "stream",
     "text": [
      "N = 100\n",
      "M = 4902\n",
      "T = 22500\n",
      "S = 500\n",
      "K = 10\n",
      "DIST = UNIFORM\n"
     ]
    }
   ],
   "source": [
    "print(\"N = {}\".format(N))\n",
    "print(\"M = {}\".format(int(len(e)/2)))\n",
    "print(\"T = {}\".format(len(conflicts)))\n",
    "print(\"S = {}\".format(S))\n",
    "print(\"K = {}\".format(K))\n",
    "print(\"DIST = {}\".format(DIST))"
   ]
  },
  {
   "cell_type": "markdown",
   "metadata": {},
   "source": [
    "## Test Cases to Verify Asymptotic Bounds for *Distribution Functions*:"
   ]
  },
  {
   "cell_type": "code",
   "execution_count": 15,
   "metadata": {},
   "outputs": [],
   "source": [
    "import time\n",
    "def run_and_time_distribution(n, s, k, fun):\n",
    "    start = time.time()\n",
    "    distro = fun(n, s, k)\n",
    "    elapsed = time.time()-start\n",
    "    print(\"elapsed: {} for N:{}, S:{}, K{}\".format(elapsed, n, s, k))\n",
    "    return elapsed\n",
    "\n",
    "def plot_tuples(tup_arr, xlabel, ylabel, title):\n",
    "    x, y = zip(*tup_arr)\n",
    "    plt.plot(x, y)\n",
    "    plt.xlabel(xlabel)\n",
    "    plt.ylabel(ylabel)\n",
    "    plt.title(title)\n",
    "    plt.show()"
   ]
  },
  {
   "cell_type": "code",
   "execution_count": 16,
   "metadata": {
    "collapsed": true
   },
   "outputs": [
    {
     "name": "stdout",
     "output_type": "stream",
     "text": [
      "Distribution Function: UNIFORM\n",
      "-----------------------------------------------------------------------------------\n",
      "Complexity example, varying N on <function generate_uniform_dist at 0x10479c510>\n",
      "elapsed: 0.04152393341064453 for N:50, S:10000, K5\n",
      "elapsed: 0.0382838249206543 for N:100, S:10000, K5\n",
      "elapsed: 0.037184953689575195 for N:250, S:10000, K5\n",
      "elapsed: 0.03856778144836426 for N:1000, S:10000, K5\n",
      "elapsed: 0.038865089416503906 for N:2500, S:10000, K5\n",
      "elapsed: 0.03883481025695801 for N:10000, S:10000, K5\n"
     ]
    },
    {
     "data": {
      "image/png": "[encoded data removed]",
      "text/plain": [
       "<Figure size 432x288 with 1 Axes>"
      ]
     },
     "metadata": {},
     "output_type": "display_data"
    },
    {
     "name": "stdout",
     "output_type": "stream",
     "text": [
      "-----------------------------------------------------------------------------------\n",
      "Complexity example, varying S on <function generate_uniform_dist at 0x10479c510>\n",
      "elapsed: 0.0036749839782714844 for N:100, S:500, K10\n",
      "elapsed: 0.007426023483276367 for N:100, S:1000, K10\n",
      "elapsed: 0.01860213279724121 for N:100, S:2500, K10\n",
      "elapsed: 0.07577681541442871 for N:100, S:10000, K10\n",
      "elapsed: 0.19032812118530273 for N:100, S:25000, K10\n",
      "elapsed: 0.7824711799621582 for N:100, S:100000, K10\n"
     ]
    },
    {
     "data": {
      "image/png": "[encoded data removed]",
      "text/plain": [
       "<Figure size 432x288 with 1 Axes>"
      ]
     },
     "metadata": {},
     "output_type": "display_data"
    },
    {
     "name": "stdout",
     "output_type": "stream",
     "text": [
      "-----------------------------------------------------------------------------------\n",
      "Complexity example, varying K on on <function generate_uniform_dist at 0x10479c510>\n",
      "elapsed: 0.03978419303894043 for N:1000, S:10000, K5\n",
      "elapsed: 0.07383394241333008 for N:1000, S:10000, K10\n",
      "elapsed: 0.10654425621032715 for N:1000, S:10000, K15\n",
      "elapsed: 0.15684080123901367 for N:1000, S:10000, K20\n",
      "elapsed: 0.17242670059204102 for N:1000, S:10000, K25\n",
      "elapsed: 0.2120189666748047 for N:1000, S:10000, K30\n"
     ]
    },
    {
     "data": {
      "image/png": "[encoded data removed]",
      "text/plain": [
       "<Figure size 432x288 with 1 Axes>"
      ]
     },
     "metadata": {},
     "output_type": "display_data"
    },
    {
     "name": "stdout",
     "output_type": "stream",
     "text": [
      "-----------------------------------------------------------------------------------\n",
      "Distribution Function: TIERED\n",
      "-----------------------------------------------------------------------------------\n",
      "Complexity example, varying N on <function generate_tiered_dist at 0x10eaeb378>\n",
      "elapsed: 0.051992177963256836 for N:50, S:10000, K5\n",
      "elapsed: 0.04477286338806152 for N:100, S:10000, K5\n",
      "elapsed: 0.042730093002319336 for N:250, S:10000, K5\n",
      "elapsed: 0.04344606399536133 for N:1000, S:10000, K5\n",
      "elapsed: 0.04591012001037598 for N:2500, S:10000, K5\n",
      "elapsed: 0.04647707939147949 for N:10000, S:10000, K5\n"
     ]
    },
    {
     "data": {
      "image/png": "[encoded data removed]",
      "text/plain": [
       "<Figure size 432x288 with 1 Axes>"
      ]
     },
     "metadata": {},
     "output_type": "display_data"
    },
    {
     "name": "stdout",
     "output_type": "stream",
     "text": [
      "-----------------------------------------------------------------------------------\n",
      "Complexity example, varying S on <function generate_tiered_dist at 0x10eaeb378>\n",
      "elapsed: 0.004559755325317383 for N:100, S:500, K10\n",
      "elapsed: 0.00921177864074707 for N:100, S:1000, K10\n",
      "elapsed: 0.023526906967163086 for N:100, S:2500, K10\n",
      "elapsed: 0.09526991844177246 for N:100, S:10000, K10\n",
      "elapsed: 0.22973895072937012 for N:100, S:25000, K10\n",
      "elapsed: 0.8889799118041992 for N:100, S:100000, K10\n"
     ]
    },
    {
     "data": {
      "image/png": "[encoded data removed]",
      "text/plain": [
       "<Figure size 432x288 with 1 Axes>"
      ]
     },
     "metadata": {},
     "output_type": "display_data"
    },
    {
     "name": "stdout",
     "output_type": "stream",
     "text": [
      "-----------------------------------------------------------------------------------\n",
      "Complexity example, varying K on on <function generate_tiered_dist at 0x10eaeb378>\n",
      "elapsed: 0.0469052791595459 for N:1000, S:10000, K5\n",
      "elapsed: 0.08124899864196777 for N:1000, S:10000, K10\n",
      "elapsed: 0.11976385116577148 for N:1000, S:10000, K15\n",
      "elapsed: 0.1800379753112793 for N:1000, S:10000, K20\n",
      "elapsed: 0.20007705688476562 for N:1000, S:10000, K25\n",
      "elapsed: 0.23207902908325195 for N:1000, S:10000, K30\n"
     ]
    },
    {
     "data": {
      "image/png": "[encoded data removed]",
      "text/plain": [
       "<Figure size 432x288 with 1 Axes>"
      ]
     },
     "metadata": {},
     "output_type": "display_data"
    },
    {
     "name": "stdout",
     "output_type": "stream",
     "text": [
      "-----------------------------------------------------------------------------------\n",
      "Distribution Function: SKEWED\n",
      "-----------------------------------------------------------------------------------\n",
      "Complexity example, varying N on <function generate_skewed_dist at 0x10eb6e048>\n",
      "elapsed: 0.03876519203186035 for N:50, S:10000, K5\n",
      "elapsed: 0.038836002349853516 for N:100, S:10000, K5\n",
      "elapsed: 0.03742814064025879 for N:250, S:10000, K5\n",
      "elapsed: 0.07595133781433105 for N:1000, S:10000, K5\n",
      "elapsed: 0.3163580894470215 for N:2500, S:10000, K5\n",
      "elapsed: 4.306966781616211 for N:10000, S:10000, K5\n"
     ]
    },
    {
     "data": {
      "image/png": "[encoded data removed]",
      "text/plain": [
       "<Figure size 432x288 with 1 Axes>"
      ]
     },
     "metadata": {},
     "output_type": "display_data"
    },
    {
     "name": "stdout",
     "output_type": "stream",
     "text": [
      "-----------------------------------------------------------------------------------\n",
      "Complexity example, varying S on <function generate_skewed_dist at 0x10eb6e048>\n",
      "elapsed: 0.0038208961486816406 for N:100, S:500, K10\n",
      "elapsed: 0.0070688724517822266 for N:100, S:1000, K10\n",
      "elapsed: 0.01769113540649414 for N:100, S:2500, K10\n",
      "elapsed: 0.07393693923950195 for N:100, S:10000, K10\n",
      "elapsed: 0.17252302169799805 for N:100, S:25000, K10\n",
      "elapsed: 0.6827828884124756 for N:100, S:100000, K10\n"
     ]
    },
    {
     "data": {
      "image/png": "[encoded data removed]",
      "text/plain": [
       "<Figure size 432x288 with 1 Axes>"
      ]
     },
     "metadata": {},
     "output_type": "display_data"
    },
    {
     "name": "stdout",
     "output_type": "stream",
     "text": [
      "-----------------------------------------------------------------------------------\n",
      "Complexity example, varying K on on <function generate_skewed_dist at 0x10eb6e048>\n",
      "elapsed: 0.08252286911010742 for N:1000, S:10000, K5\n",
      "elapsed: 0.10722208023071289 for N:1000, S:10000, K10\n",
      "elapsed: 0.14294910430908203 for N:1000, S:10000, K15\n",
      "elapsed: 0.20568490028381348 for N:1000, S:10000, K20\n",
      "elapsed: 0.20463109016418457 for N:1000, S:10000, K25\n",
      "elapsed: 0.2377760410308838 for N:1000, S:10000, K30\n"
     ]
    },
    {
     "data": {
      "image/png": "[encoded data removed]",
      "text/plain": [
       "<Figure size 432x288 with 1 Axes>"
      ]
     },
     "metadata": {},
     "output_type": "display_data"
    },
    {
     "name": "stdout",
     "output_type": "stream",
     "text": [
      "-----------------------------------------------------------------------------------\n",
      "Distribution Function: CUSTOM\n",
      "-----------------------------------------------------------------------------------\n",
      "Complexity example, varying N on <function generate_custom_dist at 0x10479c598>\n",
      "elapsed: 0.04127001762390137 for N:50, S:10000, K5\n",
      "elapsed: 0.039437055587768555 for N:100, S:10000, K5\n",
      "elapsed: 0.03473305702209473 for N:250, S:10000, K5\n",
      "elapsed: 0.03652000427246094 for N:1000, S:10000, K5\n",
      "elapsed: 0.03853416442871094 for N:2500, S:10000, K5\n",
      "elapsed: 0.03689098358154297 for N:10000, S:10000, K5\n"
     ]
    },
    {
     "data": {
      "image/png": "[encoded data removed]",
      "text/plain": [
       "<Figure size 432x288 with 1 Axes>"
      ]
     },
     "metadata": {},
     "output_type": "display_data"
    },
    {
     "name": "stdout",
     "output_type": "stream",
     "text": [
      "-----------------------------------------------------------------------------------\n",
      "Complexity example, varying S on <function generate_custom_dist at 0x10479c598>\n",
      "elapsed: 0.003625154495239258 for N:100, S:500, K10\n",
      "elapsed: 0.007153034210205078 for N:100, S:1000, K10\n",
      "elapsed: 0.018769264221191406 for N:100, S:2500, K10\n",
      "elapsed: 0.0760040283203125 for N:100, S:10000, K10\n",
      "elapsed: 0.17955517768859863 for N:100, S:25000, K10\n",
      "elapsed: 0.7238998413085938 for N:100, S:100000, K10\n"
     ]
    },
    {
     "data": {
      "image/png": "[encoded data removed]",
      "text/plain": [
       "<Figure size 432x288 with 1 Axes>"
      ]
     },
     "metadata": {},
     "output_type": "display_data"
    },
    {
     "name": "stdout",
     "output_type": "stream",
     "text": [
      "-----------------------------------------------------------------------------------\n",
      "Complexity example, varying K on on <function generate_custom_dist at 0x10479c598>\n",
      "elapsed: 0.039610862731933594 for N:1000, S:10000, K5\n",
      "elapsed: 0.07139921188354492 for N:1000, S:10000, K10\n",
      "elapsed: 0.10084319114685059 for N:1000, S:10000, K15\n",
      "elapsed: 0.15223312377929688 for N:1000, S:10000, K20\n",
      "elapsed: 0.16828417778015137 for N:1000, S:10000, K25\n",
      "elapsed: 0.19708991050720215 for N:1000, S:10000, K30\n"
     ]
    },
    {
     "data": {
      "image/png": "[encoded data removed]",
      "text/plain": [
       "<Figure size 432x288 with 1 Axes>"
      ]
     },
     "metadata": {},
     "output_type": "display_data"
    },
    {
     "name": "stdout",
     "output_type": "stream",
     "text": [
      "-----------------------------------------------------------------------------------\n"
     ]
    }
   ],
   "source": [
    "N_arr = [50, 100, 250, 1000, 2500, 10000]\n",
    "S_arr = [500, 1000, 2500, 10000, 25000, 100000]\n",
    "K_arr = [5, 10, 15, 20, 25, 30]\n",
    "funcs = [(generate_uniform_dist, \"UNIFORM\"), (generate_tiered_dist, \"TIERED\"), (generate_skewed_dist, \"SKEWED\"), (generate_custom_dist, \"CUSTOM\") ]\n",
    "\n",
    "for fun, name in funcs:\n",
    "    print(\"Distribution Function: {}\".format(name))\n",
    "    print(\"-----------------------------------------------------------------------------------\")\n",
    "    print(\"Complexity example, varying N on {}\".format(fun))\n",
    "    N_vary = [(val, run_and_time_distribution(val, 10000, 5, fun) ) for val in N_arr]\n",
    "    plot_tuples(N_vary, \"N\", \"Time\", \"Time v. N\")\n",
    "    \n",
    "    print(\"-----------------------------------------------------------------------------------\")\n",
    "\n",
    "    print(\"Complexity example, varying S on {}\".format(fun))\n",
    "    S_vary = [(val, run_and_time_distribution(100, val, 10, fun) ) for val in S_arr]\n",
    "    plot_tuples(S_vary, \"S\", \"Time\", \"Time v. S\")\n",
    "    \n",
    "    print(\"-----------------------------------------------------------------------------------\")\n",
    "\n",
    "    print(\"Complexity example, varying K on on {}\".format(fun))\n",
    "    K_vary = [(val, run_and_time_distribution(1000, 10000, val, fun) ) for val in K_arr]\n",
    "    plot_tuples(K_vary, \"K\", \"Time\", \"Time v. K\")\n",
    "        \n",
    "    print(\"-----------------------------------------------------------------------------------\")\n",
    "\n",
    "    "
   ]
  },
  {
   "cell_type": "markdown",
   "metadata": {},
   "source": [
    "These graphs display how running time changes as N, S and K are varied across all four of my distribution functions. The results of these graphs are consistent with the explanations seen in Sections 2.2.3, 2.3.3, 2.4.3 and 2.5.3.\n",
    "\n",
    "The one thing that really stands out is the graph the varies N for the SKEWED distribution. All other discribution functions are O(1) on N,except for this one, which generates N^2 = N+(N-1)+(N-2)... elements to be used as a pool from which a SKEWED discribution can be picked uniformly (see section 2.4)."
   ]
  },
  {
   "cell_type": "markdown",
   "metadata": {},
   "source": [
    "## Test Cases to Verify Asymptotic Bounds for *Duplicate Removal Functions*:"
   ]
  },
  {
   "cell_type": "code",
   "execution_count": 17,
   "metadata": {},
   "outputs": [],
   "source": [
    "import time\n",
    "def run_and_time_dup_removal(N, S, K, fun):\n",
    "    attendees_sessions_uniform = generate_uniform_dist(N, S, K)\n",
    "    conflicts = gen_all_pairwise_conflicts(attendees_sessions_uniform)\n",
    "    \n",
    "    start = time.time()\n",
    "    fun(conflicts, N)\n",
    "    elapsed = time.time()-start\n",
    "    print(\"elapsed: {} for Conflicts:{} on function {}\".format(elapsed, len(conflicts), fun))\n",
    "    return (len(conflicts), elapsed)\n",
    "\n",
    "def plot_tuples(tup_arr, xlabel, ylabel, title):\n",
    "    x, y = zip(*tup_arr)\n",
    "    plt.plot(x, y)\n",
    "    plt.xlabel(xlabel)\n",
    "    plt.ylabel(ylabel)\n",
    "    plt.title(title)\n",
    "    plt.show()"
   ]
  },
  {
   "cell_type": "code",
   "execution_count": 18,
   "metadata": {},
   "outputs": [
    {
     "name": "stdout",
     "output_type": "stream",
     "text": [
      "Duplicate Removal Function: Adjacency MATRIX\n",
      "elapsed: 0.00020766258239746094 for Conflicts:1000 on function <function gen_unique_conflicts_adj_mtx at 0x10eb08bf8>\n",
      "elapsed: 0.001394033432006836 for Conflicts:9000 on function <function gen_unique_conflicts_adj_mtx at 0x10eb08bf8>\n",
      "elapsed: 0.0047261714935302734 for Conflicts:31500 on function <function gen_unique_conflicts_adj_mtx at 0x10eb08bf8>\n",
      "elapsed: 0.010612010955810547 for Conflicts:76000 on function <function gen_unique_conflicts_adj_mtx at 0x10eb08bf8>\n",
      "elapsed: 0.020914077758789062 for Conflicts:150000 on function <function gen_unique_conflicts_adj_mtx at 0x10eb08bf8>\n",
      "elapsed: 0.07603192329406738 for Conflicts:435000 on function <function gen_unique_conflicts_adj_mtx at 0x10eb08bf8>\n",
      "elapsed: 0.2404778003692627 for Conflicts:1190000 on function <function gen_unique_conflicts_adj_mtx at 0x10eb08bf8>\n",
      "elapsed: 0.48474907875061035 for Conflicts:1950000 on function <function gen_unique_conflicts_adj_mtx at 0x10eb08bf8>\n"
     ]
    },
    {
     "data": {
      "image/png": "[encoded data removed]",
      "text/plain": [
       "<Figure size 432x288 with 1 Axes>"
      ]
     },
     "metadata": {},
     "output_type": "display_data"
    },
    {
     "name": "stdout",
     "output_type": "stream",
     "text": [
      "-----------------------------------------------------------------------------------\n",
      "Duplicate Removal Function: Adjacency LIST\n",
      "elapsed: 0.00029087066650390625 for Conflicts:1000 on function <function gen_unique_conflicts_adj_list at 0x10eb8dae8>\n",
      "elapsed: 0.0018618106842041016 for Conflicts:9000 on function <function gen_unique_conflicts_adj_list at 0x10eb8dae8>\n",
      "elapsed: 0.006261110305786133 for Conflicts:31500 on function <function gen_unique_conflicts_adj_list at 0x10eb8dae8>\n",
      "elapsed: 0.016722917556762695 for Conflicts:76000 on function <function gen_unique_conflicts_adj_list at 0x10eb8dae8>\n",
      "elapsed: 0.031241178512573242 for Conflicts:150000 on function <function gen_unique_conflicts_adj_list at 0x10eb8dae8>\n",
      "elapsed: 0.11398601531982422 for Conflicts:435000 on function <function gen_unique_conflicts_adj_list at 0x10eb8dae8>\n",
      "elapsed: 0.4057788848876953 for Conflicts:1190000 on function <function gen_unique_conflicts_adj_list at 0x10eb8dae8>\n",
      "elapsed: 0.6780290603637695 for Conflicts:1950000 on function <function gen_unique_conflicts_adj_list at 0x10eb8dae8>\n"
     ]
    },
    {
     "data": {
      "image/png": "[encoded data removed]",
      "text/plain": [
       "<Figure size 432x288 with 1 Axes>"
      ]
     },
     "metadata": {},
     "output_type": "display_data"
    }
   ],
   "source": [
    "N_arr = [50, 100, 150, 200, 250, 500, 1000, 1500]\n",
    "S_arr = [100, 200, 300, 400, 500, 1000, 2000, 2500]\n",
    "K_arr = [5, 10, 15, 20, 25, 30, 35, 40]\n",
    "    \n",
    "print(\"Duplicate Removal Function: Adjacency MATRIX\")\n",
    "NSK = zip(N_arr, S_arr, K_arr)\n",
    "matrix_results = [run_and_time_dup_removal(n, s, k, gen_unique_conflicts_adj_mtx) for n, s, k in NSK]\n",
    "plot_tuples(matrix_results, \"Conflicts\", \"Time\", \"Time v. Conflicts\")\n",
    "      \n",
    "print(\"-----------------------------------------------------------------------------------\")\n",
    "      \n",
    "print(\"Duplicate Removal Function: Adjacency LIST\")\n",
    "NSK = zip(N_arr, S_arr, K_arr)\n",
    "list_results = [run_and_time_dup_removal(n, s, k, gen_unique_conflicts_adj_list) for n, s, k in NSK]\n",
    "plot_tuples(list_results, \"Conflicts\", \"Time\", \"Time v. Conflicts\")\n",
    "\n"
   ]
  },
  {
   "cell_type": "markdown",
   "metadata": {},
   "source": [
    "You can see how these functions that remove duplicate via adjacency matricies and adjacency lists remove duplicates in a time that are asymptotically bound by O(C) where C is equal to the total number of conflicts, including duplicates."
   ]
  },
  {
   "cell_type": "markdown",
   "metadata": {},
   "source": [
    "# Part 2 \n",
    "\n",
    "Due December 4th"
   ]
  },
  {
   "cell_type": "markdown",
   "metadata": {},
   "source": [
    "## Input from Part 1 (must run previous cells)"
   ]
  },
  {
   "cell_type": "code",
   "execution_count": 19,
   "metadata": {},
   "outputs": [],
   "source": [
    "P = p\n",
    "E = e\n",
    "N = N\n",
    "M = int(len(e)/2)\n",
    "T = len(conflicts)\n",
    "S = S\n",
    "K = K\n",
    "DIST = DIST"
   ]
  },
  {
   "cell_type": "markdown",
   "metadata": {},
   "source": [
    "## Graph Coloring Method 1: Smallest Last Vertex Ordering(SLVO)\n",
    "\n",
    "CSE 5350 student, electing to do Method 1, for now at least. \n",
    "\n",
    "### Convert P[] and E[] back to adjacency list\n",
    "\n",
    "As a result of formatting my assignment in a manner where code is readable within the report, it didnt make sense to create a new program that interpreted the file output from the Project Part 1. In the spirit of the assignment, I still wrote code that read the P[] and E[] arrays and converted them back into an adjacency list for me to use as needed. It seemed more in-line with teh assignment than just directly reading the session conflict adjacency list from above. The only difference is that I do not utilize the actual text files output by Part 1.\n",
    "\n",
    "This code works by looping through the P array. At every index i except the last, we take the subarray in E from P[i] to P[i+1] and add that to a new row in an adjacency list, with each 0-indexed row representing a session name. The \"minus one's\" serve to translate between the 1-indexed P array, to the 0-indexed format we use in Python. "
   ]
  },
  {
   "cell_type": "code",
   "execution_count": 20,
   "metadata": {},
   "outputs": [],
   "source": [
    "sessions_conflicts_adj_list = []\n",
    "for session in range(len(P)):\n",
    "    if session is not len(P)-1:\n",
    "        sessions_conflicts_adj_list.append(E[ P[session]-1 : P[session+1]-1 ])\n",
    "    else:\n",
    "        sessions_conflicts_adj_list.append(E[ P[session]-1 :])"
   ]
  },
  {
   "cell_type": "markdown",
   "metadata": {},
   "source": [
    "### Helper Functions\n",
    "- `smallest_degree_session(slvo, adjacent)` receives the data structure specified in the assignment and the \"field 1\" (a.k.a. adjacent verticies) of one spefific vertex. Here we do a linear pass over the adjacent verticies to find the adjacent vertex with the lowest degree that has not itself been deleted.\n",
    "- `adjacent_colors(slvo, vertex)` is used during coloring to determine the colors of a vertex's adjacent verticies, if they have even been colored yet)\n",
    "- `smallest_int_not_in_list(arr)` is used to find the smallest integer not in a list. This is used during coloring to determine what color should be assigned to the given vertex, based on the colors of the adjacent verticies of it."
   ]
  },
  {
   "cell_type": "code",
   "execution_count": 21,
   "metadata": {},
   "outputs": [],
   "source": [
    "from itertools import count, filterfalse\n",
    "\n",
    "def smallest_degree_session(slvo, adjacent):\n",
    "    smallest_val = 1000000000\n",
    "    smallest_idx = -1\n",
    "    for session in adjacent:\n",
    "        #only look at verticies that havent been deleted\n",
    "        if slvo[session][2] > 0:\n",
    "            if slvo[session][2] < smallest_val:\n",
    "                smallest_val = slvo[session][2]\n",
    "                smallest_idx = session\n",
    "    return smallest_idx\n",
    "\n",
    "def adjacent_colors(slvo, vertex):\n",
    "    adjacents = slvo[vertex][1]\n",
    "    colors = []\n",
    "    for adj in adjacents:\n",
    "        color = slvo[adj][2]\n",
    "        if color is not -1:\n",
    "            colors.append(color)\n",
    "    return colors\n",
    "\n",
    "def smallest_int_not_in_list(arr):\n",
    "    colors = set(arr)\n",
    "    color = 0\n",
    "    while color in arr:\n",
    "        color+=1\n",
    "    return color "
   ]
  },
  {
   "cell_type": "markdown",
   "metadata": {},
   "source": [
    "### Structure for SLVO\n",
    "\n",
    "- Field 0 = Session Number\n",
    "\n",
    "- Field 1 = P(I): Pointer to edge list\n",
    "\n",
    "- Field 2 = a: Current Degree, b: -1 when deleted, c: Color value\n",
    "\n",
    "- Field 3 = Unused: Recursive method using stack removes need for these pointers"
   ]
  },
  {
   "cell_type": "markdown",
   "metadata": {},
   "source": [
    "### SLVO Algorithm\n",
    "\n",
    "Due to the nature of Python, pointers (well, the python equivalent, references) are a bit harder to manage using the specific algorithm mentioned in the assignment. I took an interesting spin on the prompt and wrote the algorithm using a stack, instead of recursive function calls. \n",
    "\n",
    "I would like to break down the main algorithm of `svlo_color_adj_list(sessions_conflicts_adj_list)` into steps. First, generate slvo, the minimalist data structure specified in the assignment. Initialize a stack with the index/session #/vertex of the theire graph with the smallest degree. Loop while the stack is not empty. Peek the top element of the stack, curr_vertex. Get the adjacent vertex with the smallest degree. Return to the loop if all adjacent verticies have been deleted. Otherwise, delete and track the adjacent vertex with the smallest degree. Reduce the count of the deleted vertex's adjavent verticies. Add the deleted vertex to the stack, continue looping and recursively deleting its adjacent verticies until the base case is reached.\n",
    "\n",
    "Once the main loop is completed, we can now color the graph. Since we have stored verticies in the prder they were deleted, we can use that information to color the verticies in the reverse order. Simply loop over the reversed deleted verticies and fetch the list of its adjacencies that have already been colored. If we are on the first iteration, the first vertex will be \"colored zero\". As we go on, `adjacent_colors` and `smallest_int_not_in_list` give us a way of looping over the slvo data structure and choose appripoiate colors for the . rest of the verticies in the graph. "
   ]
  },
  {
   "cell_type": "code",
   "execution_count": 22,
   "metadata": {},
   "outputs": [],
   "source": [
    "def svlo_color_adj_list(sessions_conflicts_adj_list, logger=False):\n",
    "    #generate structure\n",
    "    slvo = [[session, conflicts, len(conflicts)] for session, conflicts in enumerate(sessions_conflicts_adj_list)]\n",
    "    \n",
    "    #Algorithm\n",
    "    stack = []\n",
    "    deleted = [] # tuples: (deleted_vertex, degree_when_deleted)\n",
    "\n",
    "    init_smallest = smallest_degree_session(slvo, [x[0] for x in slvo])\n",
    "    stack.append(init_smallest)\n",
    "    deleted.append( (init_smallest, slvo[init_smallest][2]) )\n",
    "\n",
    "    #delete by smallest vertex\n",
    "    while len(stack) > 0:\n",
    "        curr_vertex = stack[-1] #top of stack (peek)\n",
    "\n",
    "        #get adjacent vertex of smallest degree (that hasn't been deleted)\n",
    "        smallest_degree_adj = smallest_degree_session(slvo, slvo[curr_vertex][1])\n",
    "\n",
    "        #base case, reached vertex, who has all its verticies deleted\n",
    "        if smallest_degree_adj is -1:\n",
    "            stack.pop()\n",
    "            continue\n",
    "\n",
    "        #delete smallest exting neighbour of curr_vertex\n",
    "        deleted.append( (smallest_degree_adj, slvo[smallest_degree_adj][2]) )\n",
    "        slvo[smallest_degree_adj][2] = -1\n",
    "\n",
    "        for adj_to_smallest in slvo[smallest_degree_adj][1]:\n",
    "            if slvo[adj_to_smallest][2] > 0:\n",
    "                slvo[adj_to_smallest][2] -= 1\n",
    "\n",
    "        #add \"deleted\" vertex to stack, to greedily/recursively follow its neighbours\n",
    "        stack.append(smallest_degree_adj)\n",
    "        #End While\n",
    "\n",
    "    reverse_deleted = list(reversed(deleted))\n",
    "    \n",
    "    coloring_order = []\n",
    "    degrees_deleted = []\n",
    "\n",
    "    count = 0\n",
    "    for vertex, degree in reverse_deleted:\n",
    "        adj_colors = adjacent_colors(slvo, vertex)\n",
    "        color = smallest_int_not_in_list(adj_colors)\n",
    "        slvo[vertex][2] = color\n",
    "\n",
    "        coloring_order.append(count)\n",
    "        degrees_deleted.append(degree)\n",
    "        \n",
    "        if logger:\n",
    "            #For each vertex (session) the color, original degree, and degree when deleted. These should be printed in the order colored.\n",
    "            print(\"Vertex:{0:3}, Color:{1:3}, Original Degree:{2:3}, Deleted Degree:{3:3}\".format(vertex, color, len(slvo[vertex][1]), degree))\n",
    "\n",
    "        count += 1\n",
    "        \n",
    "    colored_slvo = slvo\n",
    "    return (colored_slvo, reverse_deleted, coloring_order, degrees_deleted,)"
   ]
  },
  {
   "cell_type": "markdown",
   "metadata": {},
   "source": [
    "### Results\n",
    "\n",
    "Now that we have our algorithm, we can inspect its output to vertify its performance.  Here, I call the Smallest Last Vertex Ordering function by passing it an adjacency matrix of session conflicts. To visualize the how the graph is being colored, I have generated the graph below. The X-axis represents the order that the vertex was colored (reverse of the order they were deleted. The Y-axis represents the degree that that vertex was deleted. In summary, looking left-to-right on the graph, you can see how the \"degree when deleted\" changes as the the graph is colored. This is important because it demonstrates that the lowest-degree verticies are being recursively deleted first as the algorithm proceeds. This reverse coloring allows us to color highest degree verticies most efficently."
   ]
  },
  {
   "cell_type": "code",
   "execution_count": 23,
   "metadata": {},
   "outputs": [
    {
     "name": "stdout",
     "output_type": "stream",
     "text": [
      "Vertex: 97, Color:  1, Original Degree: 99, Deleted Degree:  1\n",
      "Vertex: 96, Color:  2, Original Degree: 99, Deleted Degree:  2\n",
      "Vertex: 95, Color:  3, Original Degree: 98, Deleted Degree:  3\n",
      "Vertex: 94, Color:  4, Original Degree: 98, Deleted Degree:  4\n",
      "Vertex: 93, Color:  5, Original Degree: 98, Deleted Degree:  5\n",
      "Vertex: 91, Color:  6, Original Degree: 99, Deleted Degree:  6\n",
      "Vertex: 90, Color:  7, Original Degree: 97, Deleted Degree:  7\n",
      "Vertex: 88, Color:  8, Original Degree: 98, Deleted Degree:  8\n",
      "Vertex: 87, Color:  9, Original Degree: 99, Deleted Degree:  9\n",
      "Vertex: 86, Color: 10, Original Degree: 99, Deleted Degree: 10\n",
      "Vertex: 85, Color: 11, Original Degree: 99, Deleted Degree: 11\n",
      "Vertex: 84, Color: 12, Original Degree: 99, Deleted Degree: 12\n",
      "Vertex: 83, Color: 13, Original Degree: 98, Deleted Degree: 13\n",
      "Vertex: 81, Color: 14, Original Degree: 99, Deleted Degree: 14\n",
      "Vertex: 80, Color: 15, Original Degree: 98, Deleted Degree: 15\n",
      "Vertex: 79, Color: 16, Original Degree: 98, Deleted Degree: 16\n",
      "Vertex: 78, Color: 17, Original Degree: 98, Deleted Degree: 17\n",
      "Vertex: 77, Color: 18, Original Degree: 99, Deleted Degree: 18\n",
      "Vertex: 76, Color: 19, Original Degree: 99, Deleted Degree: 19\n",
      "Vertex: 75, Color: 20, Original Degree: 98, Deleted Degree: 20\n",
      "Vertex: 74, Color: 21, Original Degree: 98, Deleted Degree: 21\n",
      "Vertex: 73, Color: 22, Original Degree: 99, Deleted Degree: 22\n",
      "Vertex: 71, Color: 23, Original Degree: 99, Deleted Degree: 23\n",
      "Vertex: 70, Color: 24, Original Degree: 98, Deleted Degree: 24\n",
      "Vertex: 68, Color: 25, Original Degree: 98, Deleted Degree: 25\n",
      "Vertex: 67, Color: 26, Original Degree: 99, Deleted Degree: 26\n",
      "Vertex: 66, Color: 27, Original Degree: 97, Deleted Degree: 27\n",
      "Vertex: 65, Color: 28, Original Degree: 99, Deleted Degree: 28\n",
      "Vertex: 64, Color: 29, Original Degree: 99, Deleted Degree: 29\n",
      "Vertex: 63, Color: 30, Original Degree: 99, Deleted Degree: 30\n",
      "Vertex: 62, Color: 31, Original Degree: 97, Deleted Degree: 31\n",
      "Vertex: 61, Color: 32, Original Degree: 98, Deleted Degree: 32\n",
      "Vertex: 60, Color: 33, Original Degree: 99, Deleted Degree: 33\n",
      "Vertex: 59, Color: 34, Original Degree: 98, Deleted Degree: 34\n",
      "Vertex: 58, Color: 35, Original Degree: 99, Deleted Degree: 35\n",
      "Vertex: 56, Color: 36, Original Degree: 99, Deleted Degree: 36\n",
      "Vertex: 53, Color: 37, Original Degree: 99, Deleted Degree: 37\n",
      "Vertex: 52, Color: 38, Original Degree: 98, Deleted Degree: 38\n",
      "Vertex: 51, Color: 39, Original Degree: 99, Deleted Degree: 39\n",
      "Vertex: 50, Color: 40, Original Degree: 99, Deleted Degree: 40\n",
      "Vertex: 48, Color: 41, Original Degree: 99, Deleted Degree: 41\n",
      "Vertex: 46, Color: 42, Original Degree: 99, Deleted Degree: 42\n",
      "Vertex: 45, Color: 43, Original Degree: 99, Deleted Degree: 43\n",
      "Vertex: 44, Color: 44, Original Degree: 99, Deleted Degree: 44\n",
      "Vertex: 43, Color: 45, Original Degree: 98, Deleted Degree: 45\n",
      "Vertex: 40, Color: 46, Original Degree: 99, Deleted Degree: 46\n",
      "Vertex: 39, Color: 47, Original Degree: 99, Deleted Degree: 47\n",
      "Vertex: 38, Color: 48, Original Degree: 99, Deleted Degree: 48\n",
      "Vertex: 37, Color: 49, Original Degree: 98, Deleted Degree: 49\n",
      "Vertex: 36, Color: 50, Original Degree: 99, Deleted Degree: 50\n",
      "Vertex: 35, Color: 51, Original Degree: 99, Deleted Degree: 51\n",
      "Vertex: 34, Color: 52, Original Degree: 99, Deleted Degree: 52\n",
      "Vertex: 32, Color: 53, Original Degree: 99, Deleted Degree: 53\n",
      "Vertex: 30, Color: 54, Original Degree: 99, Deleted Degree: 54\n",
      "Vertex: 29, Color: 55, Original Degree: 98, Deleted Degree: 55\n",
      "Vertex: 28, Color: 56, Original Degree: 98, Deleted Degree: 56\n",
      "Vertex: 27, Color: 57, Original Degree: 98, Deleted Degree: 57\n",
      "Vertex: 26, Color: 58, Original Degree: 98, Deleted Degree: 58\n",
      "Vertex: 25, Color: 59, Original Degree: 97, Deleted Degree: 59\n",
      "Vertex: 22, Color: 60, Original Degree: 99, Deleted Degree: 60\n",
      "Vertex: 21, Color: 61, Original Degree: 98, Deleted Degree: 61\n",
      "Vertex: 20, Color: 62, Original Degree: 99, Deleted Degree: 62\n",
      "Vertex: 19, Color: 63, Original Degree: 97, Deleted Degree: 63\n",
      "Vertex: 18, Color: 64, Original Degree: 99, Deleted Degree: 64\n",
      "Vertex: 16, Color: 65, Original Degree: 99, Deleted Degree: 65\n",
      "Vertex: 14, Color: 66, Original Degree: 98, Deleted Degree: 66\n",
      "Vertex: 13, Color: 67, Original Degree: 98, Deleted Degree: 67\n",
      "Vertex: 12, Color: 68, Original Degree: 99, Deleted Degree: 68\n",
      "Vertex: 11, Color: 69, Original Degree: 98, Deleted Degree: 69\n",
      "Vertex: 10, Color: 70, Original Degree: 98, Deleted Degree: 70\n",
      "Vertex:  7, Color: 71, Original Degree: 99, Deleted Degree: 71\n",
      "Vertex:  5, Color: 72, Original Degree: 97, Deleted Degree: 72\n",
      "Vertex:  4, Color: 73, Original Degree: 99, Deleted Degree: 73\n",
      "Vertex:  3, Color: 74, Original Degree: 99, Deleted Degree: 74\n",
      "Vertex:  0, Color: 75, Original Degree: 98, Deleted Degree: 75\n",
      "Vertex: 82, Color:  0, Original Degree: 98, Deleted Degree: 75\n",
      "Vertex: 57, Color: 34, Original Degree: 97, Deleted Degree: 76\n",
      "Vertex: 55, Color:  7, Original Degree: 98, Deleted Degree: 77\n",
      "Vertex: 54, Color: 17, Original Degree: 97, Deleted Degree: 78\n",
      "Vertex: 42, Color: 45, Original Degree: 97, Deleted Degree: 79\n",
      "Vertex: 41, Color: 31, Original Degree: 98, Deleted Degree: 80\n",
      "Vertex: 31, Color: 49, Original Degree: 97, Deleted Degree: 81\n",
      "Vertex: 23, Color: 58, Original Degree: 97, Deleted Degree: 82\n",
      "Vertex:  8, Color: 20, Original Degree: 97, Deleted Degree: 83\n",
      "Vertex: 99, Color: 63, Original Degree: 97, Deleted Degree: 83\n",
      "Vertex: 89, Color: 56, Original Degree: 97, Deleted Degree: 84\n",
      "Vertex: 72, Color: 27, Original Degree: 97, Deleted Degree: 85\n",
      "Vertex: 69, Color: 16, Original Degree: 97, Deleted Degree: 86\n",
      "Vertex: 49, Color:  5, Original Degree: 97, Deleted Degree: 87\n",
      "Vertex: 33, Color: 25, Original Degree: 97, Deleted Degree: 88\n",
      "Vertex: 24, Color:  3, Original Degree: 97, Deleted Degree: 89\n",
      "Vertex: 17, Color:  8, Original Degree: 97, Deleted Degree: 90\n",
      "Vertex:  9, Color: 38, Original Degree: 97, Deleted Degree: 91\n",
      "Vertex:  1, Color: 15, Original Degree: 97, Deleted Degree: 92\n",
      "Vertex: 92, Color: 69, Original Degree: 95, Deleted Degree: 92\n",
      "Vertex:  6, Color: 24, Original Degree: 95, Deleted Degree: 93\n",
      "Vertex: 47, Color: 32, Original Degree: 95, Deleted Degree: 93\n",
      "Vertex: 15, Color:  4, Original Degree: 94, Deleted Degree: 93\n",
      "Vertex:  2, Color: 13, Original Degree: 95, Deleted Degree: 95\n",
      "Vertex: 15, Color:  4, Original Degree: 94, Deleted Degree: 94\n"
     ]
    },
    {
     "data": {
      "image/png": "[encoded data removed]",
      "text/plain": [
       "<Figure size 432x288 with 1 Axes>"
      ]
     },
     "metadata": {},
     "output_type": "display_data"
    },
    {
     "name": "stdout",
     "output_type": "stream",
     "text": [
      "Max Degree When Deleted: 95\n",
      "Colors Used            : 76\n",
      "N                      : 100\n",
      "S                      : 500\n",
      "K                      : 10\n",
      "DIST                   : UNIFORM\n"
     ]
    }
   ],
   "source": [
    "%matplotlib inline\n",
    "\n",
    "colored_slvo, reverse_deleted, coloring_order, degrees_deleted = svlo_color_adj_list(sessions_conflicts_adj_list, logger=True)\n",
    "\n",
    "plt.scatter(coloring_order, degrees_deleted)\n",
    "plt.xlabel(\"Order Colored\")\n",
    "plt.ylabel(\"Degree When Deleted\")\n",
    "plt.show()\n",
    "\n",
    "print(\"Max Degree When Deleted: {}\".format(max([del_degree for vertex, del_degree in reverse_deleted])))\n",
    "print(\"Colors Used            : {}\".format(len(set([vertex[2] for vertex in colored_slvo]))))\n",
    "print(\"N                      : {}\".format(N))\n",
    "print(\"S                      : {}\".format(S))\n",
    "print(\"K                      : {}\".format(K))\n",
    "print(\"DIST                   : {}\".format(DIST))\n"
   ]
  },
  {
   "cell_type": "markdown",
   "metadata": {},
   "source": [
    "After the graph, we can also see some relevant data pertaining to it. `Colors Used` will give us a glimpse at how the graph is organized and how easily sessions can be mitigated. `Max degree When Deleted` gives us a hint about the vertex with the most conflicts, that also has adjacent verticies with the most conflicts! `N, S, K and DIST` are mainly included for reference, if the reader woult like to see the graph with different inputs."
   ]
  },
  {
   "cell_type": "markdown",
   "metadata": {},
   "source": [
    "## SLVO: Comparing Different Discributions\n",
    "\n",
    "Since the output from the coloring function was already displayed with a uniform discribution (the abobe example next to the original code), I would like to display the coloring function's performance on all 4 distributions. \n",
    "\n",
    "### Uniform "
   ]
  },
  {
   "cell_type": "code",
   "execution_count": 24,
   "metadata": {},
   "outputs": [
    {
     "name": "stdout",
     "output_type": "stream",
     "text": [
      "Vertex: 97, Color:  1, Original Degree: 99, Deleted Degree:  1\n",
      "Vertex: 96, Color:  2, Original Degree: 99, Deleted Degree:  2\n",
      "Vertex: 95, Color:  3, Original Degree: 98, Deleted Degree:  3\n",
      "Vertex: 94, Color:  4, Original Degree: 98, Deleted Degree:  4\n",
      "Vertex: 93, Color:  5, Original Degree: 98, Deleted Degree:  5\n",
      "Vertex: 91, Color:  6, Original Degree: 99, Deleted Degree:  6\n",
      "Vertex: 90, Color:  7, Original Degree: 97, Deleted Degree:  7\n",
      "Vertex: 88, Color:  8, Original Degree: 98, Deleted Degree:  8\n",
      "Vertex: 87, Color:  9, Original Degree: 99, Deleted Degree:  9\n",
      "Vertex: 86, Color: 10, Original Degree: 99, Deleted Degree: 10\n",
      "Vertex: 85, Color: 11, Original Degree: 99, Deleted Degree: 11\n",
      "Vertex: 84, Color: 12, Original Degree: 99, Deleted Degree: 12\n",
      "Vertex: 83, Color: 13, Original Degree: 98, Deleted Degree: 13\n",
      "Vertex: 81, Color: 14, Original Degree: 99, Deleted Degree: 14\n",
      "Vertex: 80, Color: 15, Original Degree: 98, Deleted Degree: 15\n",
      "Vertex: 79, Color: 16, Original Degree: 98, Deleted Degree: 16\n",
      "Vertex: 78, Color: 17, Original Degree: 98, Deleted Degree: 17\n",
      "Vertex: 77, Color: 18, Original Degree: 99, Deleted Degree: 18\n",
      "Vertex: 76, Color: 19, Original Degree: 99, Deleted Degree: 19\n",
      "Vertex: 75, Color: 20, Original Degree: 98, Deleted Degree: 20\n",
      "Vertex: 74, Color: 21, Original Degree: 98, Deleted Degree: 21\n",
      "Vertex: 73, Color: 22, Original Degree: 99, Deleted Degree: 22\n",
      "Vertex: 71, Color: 23, Original Degree: 99, Deleted Degree: 23\n",
      "Vertex: 70, Color: 24, Original Degree: 98, Deleted Degree: 24\n",
      "Vertex: 68, Color: 25, Original Degree: 98, Deleted Degree: 25\n",
      "Vertex: 67, Color: 26, Original Degree: 99, Deleted Degree: 26\n",
      "Vertex: 66, Color: 27, Original Degree: 97, Deleted Degree: 27\n",
      "Vertex: 65, Color: 28, Original Degree: 99, Deleted Degree: 28\n",
      "Vertex: 64, Color: 29, Original Degree: 99, Deleted Degree: 29\n",
      "Vertex: 63, Color: 30, Original Degree: 99, Deleted Degree: 30\n",
      "Vertex: 62, Color: 31, Original Degree: 97, Deleted Degree: 31\n",
      "Vertex: 61, Color: 32, Original Degree: 98, Deleted Degree: 32\n",
      "Vertex: 60, Color: 33, Original Degree: 99, Deleted Degree: 33\n",
      "Vertex: 59, Color: 34, Original Degree: 98, Deleted Degree: 34\n",
      "Vertex: 58, Color: 35, Original Degree: 99, Deleted Degree: 35\n",
      "Vertex: 56, Color: 36, Original Degree: 99, Deleted Degree: 36\n",
      "Vertex: 53, Color: 37, Original Degree: 99, Deleted Degree: 37\n",
      "Vertex: 52, Color: 38, Original Degree: 98, Deleted Degree: 38\n",
      "Vertex: 51, Color: 39, Original Degree: 99, Deleted Degree: 39\n",
      "Vertex: 50, Color: 40, Original Degree: 99, Deleted Degree: 40\n",
      "Vertex: 48, Color: 41, Original Degree: 99, Deleted Degree: 41\n",
      "Vertex: 46, Color: 42, Original Degree: 99, Deleted Degree: 42\n",
      "Vertex: 45, Color: 43, Original Degree: 99, Deleted Degree: 43\n",
      "Vertex: 44, Color: 44, Original Degree: 99, Deleted Degree: 44\n",
      "Vertex: 43, Color: 45, Original Degree: 98, Deleted Degree: 45\n",
      "Vertex: 40, Color: 46, Original Degree: 99, Deleted Degree: 46\n",
      "Vertex: 39, Color: 47, Original Degree: 99, Deleted Degree: 47\n",
      "Vertex: 38, Color: 48, Original Degree: 99, Deleted Degree: 48\n",
      "Vertex: 37, Color: 49, Original Degree: 98, Deleted Degree: 49\n",
      "Vertex: 36, Color: 50, Original Degree: 99, Deleted Degree: 50\n",
      "Vertex: 35, Color: 51, Original Degree: 99, Deleted Degree: 51\n",
      "Vertex: 34, Color: 52, Original Degree: 99, Deleted Degree: 52\n",
      "Vertex: 32, Color: 53, Original Degree: 99, Deleted Degree: 53\n",
      "Vertex: 30, Color: 54, Original Degree: 99, Deleted Degree: 54\n",
      "Vertex: 29, Color: 55, Original Degree: 98, Deleted Degree: 55\n",
      "Vertex: 28, Color: 56, Original Degree: 98, Deleted Degree: 56\n",
      "Vertex: 27, Color: 57, Original Degree: 98, Deleted Degree: 57\n",
      "Vertex: 26, Color: 58, Original Degree: 98, Deleted Degree: 58\n",
      "Vertex: 25, Color: 59, Original Degree: 97, Deleted Degree: 59\n",
      "Vertex: 22, Color: 60, Original Degree: 99, Deleted Degree: 60\n",
      "Vertex: 21, Color: 61, Original Degree: 98, Deleted Degree: 61\n",
      "Vertex: 20, Color: 62, Original Degree: 99, Deleted Degree: 62\n",
      "Vertex: 19, Color: 63, Original Degree: 97, Deleted Degree: 63\n",
      "Vertex: 18, Color: 64, Original Degree: 99, Deleted Degree: 64\n",
      "Vertex: 16, Color: 65, Original Degree: 99, Deleted Degree: 65\n",
      "Vertex: 14, Color: 66, Original Degree: 98, Deleted Degree: 66\n",
      "Vertex: 13, Color: 67, Original Degree: 98, Deleted Degree: 67\n",
      "Vertex: 12, Color: 68, Original Degree: 99, Deleted Degree: 68\n",
      "Vertex: 11, Color: 69, Original Degree: 98, Deleted Degree: 69\n",
      "Vertex: 10, Color: 70, Original Degree: 98, Deleted Degree: 70\n",
      "Vertex:  7, Color: 71, Original Degree: 99, Deleted Degree: 71\n",
      "Vertex:  5, Color: 72, Original Degree: 97, Deleted Degree: 72\n",
      "Vertex:  4, Color: 73, Original Degree: 99, Deleted Degree: 73\n",
      "Vertex:  3, Color: 74, Original Degree: 99, Deleted Degree: 74\n",
      "Vertex:  0, Color: 75, Original Degree: 98, Deleted Degree: 75\n",
      "Vertex: 82, Color:  0, Original Degree: 98, Deleted Degree: 75\n",
      "Vertex: 57, Color: 34, Original Degree: 97, Deleted Degree: 76\n",
      "Vertex: 55, Color:  7, Original Degree: 98, Deleted Degree: 77\n",
      "Vertex: 54, Color: 17, Original Degree: 97, Deleted Degree: 78\n",
      "Vertex: 42, Color: 45, Original Degree: 97, Deleted Degree: 79\n",
      "Vertex: 41, Color: 31, Original Degree: 98, Deleted Degree: 80\n",
      "Vertex: 31, Color: 49, Original Degree: 97, Deleted Degree: 81\n",
      "Vertex: 23, Color: 58, Original Degree: 97, Deleted Degree: 82\n",
      "Vertex:  8, Color: 20, Original Degree: 97, Deleted Degree: 83\n",
      "Vertex: 99, Color: 63, Original Degree: 97, Deleted Degree: 83\n",
      "Vertex: 89, Color: 56, Original Degree: 97, Deleted Degree: 84\n",
      "Vertex: 72, Color: 27, Original Degree: 97, Deleted Degree: 85\n",
      "Vertex: 69, Color: 16, Original Degree: 97, Deleted Degree: 86\n",
      "Vertex: 49, Color:  5, Original Degree: 97, Deleted Degree: 87\n",
      "Vertex: 33, Color: 25, Original Degree: 97, Deleted Degree: 88\n",
      "Vertex: 24, Color:  3, Original Degree: 97, Deleted Degree: 89\n",
      "Vertex: 17, Color:  8, Original Degree: 97, Deleted Degree: 90\n",
      "Vertex:  9, Color: 38, Original Degree: 97, Deleted Degree: 91\n",
      "Vertex:  1, Color: 15, Original Degree: 97, Deleted Degree: 92\n",
      "Vertex: 92, Color: 69, Original Degree: 95, Deleted Degree: 92\n",
      "Vertex:  6, Color: 24, Original Degree: 95, Deleted Degree: 93\n",
      "Vertex: 47, Color: 32, Original Degree: 95, Deleted Degree: 93\n",
      "Vertex: 15, Color:  4, Original Degree: 94, Deleted Degree: 93\n",
      "Vertex:  2, Color: 13, Original Degree: 95, Deleted Degree: 95\n",
      "Vertex: 15, Color:  4, Original Degree: 94, Deleted Degree: 94\n"
     ]
    },
    {
     "data": {
      "image/png": "[encoded data removed]",
      "text/plain": [
       "<Figure size 432x288 with 1 Axes>"
      ]
     },
     "metadata": {},
     "output_type": "display_data"
    },
    {
     "name": "stdout",
     "output_type": "stream",
     "text": [
      "Max Degree When Deleted: 95\n",
      "Colors Used            : 76\n",
      "N                      : 100\n",
      "S                      : 500\n",
      "K                      : 10\n",
      "DIST                   : UNIFORM\n"
     ]
    }
   ],
   "source": [
    "%matplotlib inline\n",
    "\n",
    "conflicts = gen_all_pairwise_conflicts(attendees_sessions_uniform)\n",
    "conflicts_adj_list = gen_unique_conflicts_adj_list(conflicts, N)\n",
    "\n",
    "colored_slvo, reverse_deleted, coloring_order, degrees_deleted = svlo_color_adj_list(conflicts_adj_list, logger=True)\n",
    "\n",
    "plt.scatter(coloring_order, degrees_deleted)\n",
    "plt.xlabel(\"Order Colored\")\n",
    "plt.ylabel(\"Degree When Deleted\")\n",
    "plt.show()\n",
    "\n",
    "print(\"Max Degree When Deleted: {}\".format(max([del_degree for vertex, del_degree in reverse_deleted])))\n",
    "print(\"Colors Used            : {}\".format(len(set([vertex[2] for vertex in colored_slvo]))))\n",
    "print(\"N                      : {}\".format(N))\n",
    "print(\"S                      : {}\".format(S))\n",
    "print(\"K                      : {}\".format(K))\n",
    "print(\"DIST                   : {}\".format(DIST))"
   ]
  },
  {
   "cell_type": "markdown",
   "metadata": {},
   "source": [
    "### Tiered"
   ]
  },
  {
   "cell_type": "code",
   "execution_count": 25,
   "metadata": {},
   "outputs": [
    {
     "name": "stdout",
     "output_type": "stream",
     "text": [
      "Vertex: 95, Color:  1, Original Degree: 92, Deleted Degree:  1\n",
      "Vertex: 94, Color:  2, Original Degree: 91, Deleted Degree:  2\n",
      "Vertex: 93, Color:  3, Original Degree: 88, Deleted Degree:  3\n",
      "Vertex: 91, Color:  4, Original Degree: 81, Deleted Degree:  4\n",
      "Vertex: 85, Color:  5, Original Degree: 88, Deleted Degree:  5\n",
      "Vertex: 82, Color:  6, Original Degree: 90, Deleted Degree:  6\n",
      "Vertex: 79, Color:  7, Original Degree: 82, Deleted Degree:  7\n",
      "Vertex: 73, Color:  8, Original Degree: 88, Deleted Degree:  8\n",
      "Vertex: 67, Color:  9, Original Degree: 85, Deleted Degree:  9\n",
      "Vertex: 66, Color: 10, Original Degree: 85, Deleted Degree: 10\n",
      "Vertex: 63, Color: 11, Original Degree: 89, Deleted Degree: 11\n",
      "Vertex: 47, Color: 12, Original Degree: 85, Deleted Degree: 12\n",
      "Vertex: 44, Color: 13, Original Degree: 80, Deleted Degree: 13\n",
      "Vertex: 40, Color: 14, Original Degree: 85, Deleted Degree: 14\n",
      "Vertex: 39, Color: 15, Original Degree: 83, Deleted Degree: 15\n",
      "Vertex: 38, Color: 16, Original Degree: 91, Deleted Degree: 16\n",
      "Vertex: 36, Color: 17, Original Degree: 88, Deleted Degree: 17\n",
      "Vertex: 24, Color: 18, Original Degree: 90, Deleted Degree: 18\n",
      "Vertex: 20, Color: 19, Original Degree: 92, Deleted Degree: 19\n",
      "Vertex:  9, Color: 20, Original Degree: 99, Deleted Degree: 20\n",
      "Vertex:  8, Color: 21, Original Degree: 99, Deleted Degree: 21\n",
      "Vertex:  7, Color: 22, Original Degree: 99, Deleted Degree: 22\n",
      "Vertex:  6, Color: 23, Original Degree: 99, Deleted Degree: 23\n",
      "Vertex:  5, Color: 24, Original Degree: 99, Deleted Degree: 24\n",
      "Vertex:  4, Color: 25, Original Degree: 99, Deleted Degree: 25\n",
      "Vertex:  3, Color: 26, Original Degree: 99, Deleted Degree: 26\n",
      "Vertex:  2, Color: 27, Original Degree: 99, Deleted Degree: 27\n",
      "Vertex:  1, Color: 28, Original Degree: 99, Deleted Degree: 28\n",
      "Vertex:  0, Color: 29, Original Degree: 99, Deleted Degree: 29\n",
      "Vertex: 83, Color:  4, Original Degree: 87, Deleted Degree: 29\n",
      "Vertex: 74, Color:  1, Original Degree: 88, Deleted Degree: 30\n",
      "Vertex: 60, Color:  7, Original Degree: 94, Deleted Degree: 31\n",
      "Vertex: 54, Color:  2, Original Degree: 90, Deleted Degree: 32\n",
      "Vertex: 16, Color:  0, Original Degree: 89, Deleted Degree: 33\n",
      "Vertex: 96, Color: 10, Original Degree: 86, Deleted Degree: 33\n",
      "Vertex: 88, Color: 11, Original Degree: 83, Deleted Degree: 34\n",
      "Vertex: 86, Color:  5, Original Degree: 90, Deleted Degree: 35\n",
      "Vertex: 62, Color:  6, Original Degree: 81, Deleted Degree: 36\n",
      "Vertex: 32, Color: 16, Original Degree: 82, Deleted Degree: 37\n",
      "Vertex: 23, Color: 30, Original Degree: 80, Deleted Degree: 38\n",
      "Vertex: 77, Color:  3, Original Degree: 77, Deleted Degree: 38\n",
      "Vertex: 98, Color: 14, Original Degree: 83, Deleted Degree: 38\n",
      "Vertex: 84, Color: 11, Original Degree: 87, Deleted Degree: 39\n",
      "Vertex: 80, Color: 17, Original Degree: 87, Deleted Degree: 40\n",
      "Vertex: 61, Color:  6, Original Degree: 87, Deleted Degree: 41\n",
      "Vertex: 51, Color: 18, Original Degree: 84, Deleted Degree: 42\n",
      "Vertex: 42, Color: 15, Original Degree: 89, Deleted Degree: 43\n",
      "Vertex: 26, Color: 31, Original Degree: 84, Deleted Degree: 44\n",
      "Vertex: 18, Color:  9, Original Degree: 86, Deleted Degree: 45\n",
      "Vertex: 13, Color: 13, Original Degree: 84, Deleted Degree: 46\n",
      "Vertex: 12, Color: 12, Original Degree: 81, Deleted Degree: 47\n",
      "Vertex: 81, Color: 32, Original Degree: 87, Deleted Degree: 47\n",
      "Vertex: 49, Color: 33, Original Degree: 84, Deleted Degree: 48\n",
      "Vertex: 89, Color: 34, Original Degree: 88, Deleted Degree: 48\n",
      "Vertex: 68, Color: 35, Original Degree: 82, Deleted Degree: 49\n",
      "Vertex: 59, Color: 32, Original Degree: 81, Deleted Degree: 50\n",
      "Vertex: 53, Color: 31, Original Degree: 83, Deleted Degree: 51\n",
      "Vertex: 30, Color: 30, Original Degree: 84, Deleted Degree: 52\n",
      "Vertex: 58, Color:  8, Original Degree: 90, Deleted Degree: 52\n",
      "Vertex: 75, Color: 10, Original Degree: 84, Deleted Degree: 52\n",
      "Vertex: 57, Color: 35, Original Degree: 82, Deleted Degree: 53\n",
      "Vertex: 48, Color: 18, Original Degree: 80, Deleted Degree: 54\n",
      "Vertex: 35, Color: 36, Original Degree: 86, Deleted Degree: 55\n",
      "Vertex: 14, Color: 31, Original Degree: 83, Deleted Degree: 56\n",
      "Vertex: 99, Color: 19, Original Degree: 85, Deleted Degree: 56\n",
      "Vertex: 87, Color: 34, Original Degree: 83, Deleted Degree: 57\n",
      "Vertex: 70, Color: 37, Original Degree: 87, Deleted Degree: 58\n",
      "Vertex: 45, Color: 15, Original Degree: 80, Deleted Degree: 58\n",
      "Vertex: 33, Color: 38, Original Degree: 84, Deleted Degree: 59\n",
      "Vertex: 90, Color: 13, Original Degree: 83, Deleted Degree: 59\n",
      "Vertex: 64, Color: 39, Original Degree: 82, Deleted Degree: 60\n",
      "Vertex: 52, Color: 32, Original Degree: 81, Deleted Degree: 61\n",
      "Vertex: 50, Color: 37, Original Degree: 84, Deleted Degree: 62\n",
      "Vertex: 17, Color: 40, Original Degree: 80, Deleted Degree: 63\n",
      "Vertex: 11, Color:  9, Original Degree: 82, Deleted Degree: 64\n",
      "Vertex: 72, Color:  4, Original Degree: 77, Deleted Degree: 64\n",
      "Vertex: 46, Color:  1, Original Degree: 80, Deleted Degree: 65\n",
      "Vertex: 43, Color: 12, Original Degree: 83, Deleted Degree: 65\n",
      "Vertex: 29, Color: 41, Original Degree: 81, Deleted Degree: 66\n",
      "Vertex: 28, Color: 40, Original Degree: 82, Deleted Degree: 67\n",
      "Vertex: 56, Color: 39, Original Degree: 81, Deleted Degree: 67\n",
      "Vertex: 22, Color: 42, Original Degree: 83, Deleted Degree: 68\n",
      "Vertex: 27, Color: 35, Original Degree: 80, Deleted Degree: 68\n",
      "Vertex: 10, Color: 38, Original Degree: 81, Deleted Degree: 69\n",
      "Vertex: 31, Color: 41, Original Degree: 81, Deleted Degree: 69\n",
      "Vertex: 78, Color: 43, Original Degree: 78, Deleted Degree: 69\n",
      "Vertex: 69, Color: 36, Original Degree: 77, Deleted Degree: 70\n",
      "Vertex: 37, Color: 14, Original Degree: 77, Deleted Degree: 71\n",
      "Vertex: 55, Color: 33, Original Degree: 74, Deleted Degree: 70\n",
      "Vertex: 25, Color: 44, Original Degree: 77, Deleted Degree: 71\n",
      "Vertex: 71, Color: 42, Original Degree: 76, Deleted Degree: 70\n",
      "Vertex: 19, Color: 45, Original Degree: 76, Deleted Degree: 71\n",
      "Vertex: 92, Color: 13, Original Degree: 74, Deleted Degree: 70\n",
      "Vertex: 65, Color:  1, Original Degree: 69, Deleted Degree: 68\n",
      "Vertex: 34, Color:  3, Original Degree: 73, Deleted Degree: 70\n",
      "Vertex: 15, Color: 44, Original Degree: 71, Deleted Degree: 70\n",
      "Vertex: 21, Color: 46, Original Degree: 74, Deleted Degree: 72\n",
      "Vertex: 41, Color: 17, Original Degree: 60, Deleted Degree: 59\n",
      "Vertex: 76, Color: 15, Original Degree: 66, Deleted Degree: 66\n",
      "Vertex: 41, Color: 17, Original Degree: 60, Deleted Degree: 60\n"
     ]
    },
    {
     "data": {
      "image/png": "[encoded data removed]",
      "text/plain": [
       "<Figure size 432x288 with 1 Axes>"
      ]
     },
     "metadata": {},
     "output_type": "display_data"
    },
    {
     "name": "stdout",
     "output_type": "stream",
     "text": [
      "Max Degree When Deleted: 72\n",
      "Colors Used            : 47\n",
      "N                      : 100\n",
      "S                      : 500\n",
      "K                      : 10\n",
      "DIST                   : UNIFORM\n"
     ]
    }
   ],
   "source": [
    "%matplotlib inline\n",
    "\n",
    "conflicts = gen_all_pairwise_conflicts(attendees_sessions_tiered)\n",
    "conflicts_adj_list = gen_unique_conflicts_adj_list(conflicts, N)\n",
    "\n",
    "colored_slvo, reverse_deleted, coloring_order, degrees_deleted = svlo_color_adj_list(conflicts_adj_list, logger=True)\n",
    "\n",
    "plt.scatter(coloring_order, degrees_deleted)\n",
    "plt.xlabel(\"Order Colored\")\n",
    "plt.ylabel(\"Degree When Deleted\")\n",
    "plt.show()\n",
    "\n",
    "print(\"Max Degree When Deleted: {}\".format(max([del_degree for vertex, del_degree in reverse_deleted])))\n",
    "print(\"Colors Used            : {}\".format(len(set([vertex[2] for vertex in colored_slvo]))))\n",
    "print(\"N                      : {}\".format(N))\n",
    "print(\"S                      : {}\".format(S))\n",
    "print(\"K                      : {}\".format(K))\n",
    "print(\"DIST                   : {}\".format(DIST))"
   ]
  },
  {
   "cell_type": "markdown",
   "metadata": {},
   "source": [
    "### Skewed"
   ]
  },
  {
   "cell_type": "code",
   "execution_count": 26,
   "metadata": {},
   "outputs": [
    {
     "name": "stdout",
     "output_type": "stream",
     "text": [
      "Vertex: 70, Color:  1, Original Degree: 80, Deleted Degree:  1\n",
      "Vertex: 64, Color:  2, Original Degree: 87, Deleted Degree:  2\n",
      "Vertex: 63, Color:  3, Original Degree: 89, Deleted Degree:  3\n",
      "Vertex: 62, Color:  4, Original Degree: 83, Deleted Degree:  4\n",
      "Vertex: 60, Color:  5, Original Degree: 88, Deleted Degree:  5\n",
      "Vertex: 59, Color:  6, Original Degree: 85, Deleted Degree:  6\n",
      "Vertex: 57, Color:  7, Original Degree: 89, Deleted Degree:  7\n",
      "Vertex: 56, Color:  8, Original Degree: 89, Deleted Degree:  8\n",
      "Vertex: 55, Color:  9, Original Degree: 90, Deleted Degree:  9\n",
      "Vertex: 54, Color: 10, Original Degree: 88, Deleted Degree: 10\n",
      "Vertex: 53, Color: 11, Original Degree: 89, Deleted Degree: 11\n",
      "Vertex: 52, Color: 12, Original Degree: 90, Deleted Degree: 12\n",
      "Vertex: 51, Color: 13, Original Degree: 94, Deleted Degree: 13\n",
      "Vertex: 50, Color: 14, Original Degree: 89, Deleted Degree: 14\n",
      "Vertex: 47, Color: 15, Original Degree: 86, Deleted Degree: 15\n",
      "Vertex: 46, Color: 16, Original Degree: 94, Deleted Degree: 16\n",
      "Vertex: 45, Color: 17, Original Degree: 91, Deleted Degree: 17\n",
      "Vertex: 43, Color: 18, Original Degree: 92, Deleted Degree: 18\n",
      "Vertex: 41, Color: 19, Original Degree: 89, Deleted Degree: 19\n",
      "Vertex: 40, Color: 20, Original Degree: 92, Deleted Degree: 20\n",
      "Vertex: 39, Color: 21, Original Degree: 88, Deleted Degree: 21\n",
      "Vertex: 38, Color: 22, Original Degree: 91, Deleted Degree: 22\n",
      "Vertex: 37, Color: 23, Original Degree: 93, Deleted Degree: 23\n",
      "Vertex: 36, Color: 24, Original Degree: 92, Deleted Degree: 24\n",
      "Vertex: 35, Color: 25, Original Degree: 94, Deleted Degree: 25\n",
      "Vertex: 34, Color: 26, Original Degree: 93, Deleted Degree: 26\n",
      "Vertex: 33, Color: 27, Original Degree: 87, Deleted Degree: 27\n",
      "Vertex: 32, Color: 28, Original Degree: 89, Deleted Degree: 28\n",
      "Vertex: 31, Color: 29, Original Degree: 90, Deleted Degree: 29\n",
      "Vertex: 30, Color: 30, Original Degree: 90, Deleted Degree: 30\n",
      "Vertex: 29, Color: 31, Original Degree: 92, Deleted Degree: 31\n",
      "Vertex: 28, Color: 32, Original Degree: 94, Deleted Degree: 32\n",
      "Vertex: 27, Color: 33, Original Degree: 96, Deleted Degree: 33\n",
      "Vertex: 26, Color: 34, Original Degree: 91, Deleted Degree: 34\n",
      "Vertex: 25, Color: 35, Original Degree: 92, Deleted Degree: 35\n",
      "Vertex: 24, Color: 36, Original Degree: 90, Deleted Degree: 36\n",
      "Vertex: 23, Color: 37, Original Degree: 93, Deleted Degree: 37\n",
      "Vertex: 22, Color: 38, Original Degree: 93, Deleted Degree: 38\n",
      "Vertex: 21, Color: 39, Original Degree: 94, Deleted Degree: 39\n",
      "Vertex: 20, Color: 40, Original Degree: 96, Deleted Degree: 40\n",
      "Vertex: 19, Color: 41, Original Degree: 91, Deleted Degree: 41\n",
      "Vertex: 18, Color: 42, Original Degree: 96, Deleted Degree: 42\n",
      "Vertex: 17, Color: 43, Original Degree: 92, Deleted Degree: 43\n",
      "Vertex: 16, Color: 44, Original Degree: 92, Deleted Degree: 44\n",
      "Vertex: 15, Color: 45, Original Degree: 93, Deleted Degree: 45\n",
      "Vertex: 14, Color: 46, Original Degree: 93, Deleted Degree: 46\n",
      "Vertex: 13, Color: 47, Original Degree: 94, Deleted Degree: 47\n",
      "Vertex: 12, Color: 48, Original Degree: 94, Deleted Degree: 48\n",
      "Vertex: 11, Color: 49, Original Degree: 93, Deleted Degree: 49\n",
      "Vertex: 10, Color: 50, Original Degree: 95, Deleted Degree: 50\n",
      "Vertex:  9, Color: 51, Original Degree: 94, Deleted Degree: 51\n",
      "Vertex:  8, Color: 52, Original Degree: 94, Deleted Degree: 52\n",
      "Vertex:  7, Color: 53, Original Degree: 92, Deleted Degree: 53\n",
      "Vertex:  6, Color: 54, Original Degree: 92, Deleted Degree: 54\n",
      "Vertex:  5, Color: 55, Original Degree: 92, Deleted Degree: 55\n",
      "Vertex:  4, Color: 56, Original Degree: 95, Deleted Degree: 56\n",
      "Vertex:  3, Color: 57, Original Degree: 95, Deleted Degree: 57\n",
      "Vertex:  2, Color: 58, Original Degree: 94, Deleted Degree: 58\n",
      "Vertex:  1, Color: 59, Original Degree: 95, Deleted Degree: 59\n",
      "Vertex:  0, Color: 60, Original Degree: 94, Deleted Degree: 60\n",
      "Vertex: 72, Color:  0, Original Degree: 83, Deleted Degree: 60\n",
      "Vertex: 49, Color:  6, Original Degree: 93, Deleted Degree: 61\n",
      "Vertex: 42, Color: 14, Original Degree: 90, Deleted Degree: 62\n",
      "Vertex: 71, Color:  5, Original Degree: 89, Deleted Degree: 62\n",
      "Vertex: 67, Color:  4, Original Degree: 88, Deleted Degree: 63\n",
      "Vertex: 79, Color:  3, Original Degree: 80, Deleted Degree: 63\n",
      "Vertex: 73, Color: 27, Original Degree: 78, Deleted Degree: 64\n",
      "Vertex: 66, Color:  2, Original Degree: 82, Deleted Degree: 65\n",
      "Vertex: 75, Color: 56, Original Degree: 82, Deleted Degree: 65\n",
      "Vertex: 78, Color: 23, Original Degree: 75, Deleted Degree: 63\n",
      "Vertex: 65, Color:  1, Original Degree: 82, Deleted Degree: 67\n",
      "Vertex: 68, Color: 61, Original Degree: 87, Deleted Degree: 70\n",
      "Vertex: 99, Color:  0, Original Degree:  9, Deleted Degree:  8\n",
      "Vertex: 91, Color:  1, Original Degree: 73, Deleted Degree: 64\n",
      "Vertex: 61, Color: 15, Original Degree: 85, Deleted Degree: 68\n",
      "Vertex: 84, Color: 19, Original Degree: 72, Deleted Degree: 64\n",
      "Vertex: 82, Color:  8, Original Degree: 75, Deleted Degree: 64\n",
      "Vertex: 69, Color: 12, Original Degree: 86, Deleted Degree: 72\n",
      "Vertex: 92, Color:  0, Original Degree: 29, Deleted Degree: 27\n",
      "Vertex: 83, Color:  9, Original Degree: 69, Deleted Degree: 62\n",
      "Vertex: 94, Color:  2, Original Degree: 54, Deleted Degree: 52\n",
      "Vertex: 58, Color: 62, Original Degree: 89, Deleted Degree: 77\n",
      "Vertex: 98, Color:  0, Original Degree:  9, Deleted Degree:  8\n",
      "Vertex: 81, Color: 10, Original Degree: 74, Deleted Degree: 65\n",
      "Vertex: 76, Color:  7, Original Degree: 70, Deleted Degree: 66\n",
      "Vertex: 86, Color:  1, Original Degree: 70, Deleted Degree: 66\n",
      "Vertex: 80, Color:  0, Original Degree: 72, Deleted Degree: 68\n",
      "Vertex: 89, Color:  4, Original Degree: 61, Deleted Degree: 59\n",
      "Vertex: 87, Color:  1, Original Degree: 67, Deleted Degree: 64\n",
      "Vertex: 93, Color:  2, Original Degree: 59, Deleted Degree: 57\n",
      "Vertex: 77, Color: 18, Original Degree: 69, Deleted Degree: 67\n",
      "Vertex: 95, Color:  3, Original Degree: 30, Deleted Degree: 28\n",
      "Vertex: 85, Color: 15, Original Degree: 72, Deleted Degree: 68\n",
      "Vertex: 90, Color:  4, Original Degree: 55, Deleted Degree: 52\n",
      "Vertex: 88, Color:  3, Original Degree: 70, Deleted Degree: 67\n",
      "Vertex: 96, Color:  1, Original Degree: 42, Deleted Degree: 41\n",
      "Vertex: 48, Color: 63, Original Degree: 88, Deleted Degree: 86\n",
      "Vertex: 97, Color:  0, Original Degree:  9, Deleted Degree:  8\n",
      "Vertex: 44, Color: 11, Original Degree: 88, Deleted Degree: 88\n",
      "Vertex: 97, Color:  0, Original Degree:  9, Deleted Degree:  9\n"
     ]
    },
    {
     "data": {
      "image/png": "[encoded data removed]",
      "text/plain": [
       "<Figure size 432x288 with 1 Axes>"
      ]
     },
     "metadata": {},
     "output_type": "display_data"
    },
    {
     "name": "stdout",
     "output_type": "stream",
     "text": [
      "Max Degree When Deleted: 88\n",
      "Colors Used            : 64\n",
      "N                      : 100\n",
      "S                      : 500\n",
      "K                      : 10\n",
      "DIST                   : UNIFORM\n"
     ]
    }
   ],
   "source": [
    "%matplotlib inline\n",
    "\n",
    "conflicts = gen_all_pairwise_conflicts(attendees_sessions_skewed)\n",
    "conflicts_adj_list = gen_unique_conflicts_adj_list(conflicts, N)\n",
    "\n",
    "colored_slvo, reverse_deleted, coloring_order, degrees_deleted = svlo_color_adj_list(conflicts_adj_list, logger=True)\n",
    "\n",
    "plt.scatter(coloring_order, degrees_deleted)\n",
    "plt.xlabel(\"Order Colored\")\n",
    "plt.ylabel(\"Degree When Deleted\")\n",
    "plt.show()\n",
    "\n",
    "print(\"Max Degree When Deleted: {}\".format(max([del_degree for vertex, del_degree in reverse_deleted])))\n",
    "print(\"Colors Used            : {}\".format(len(set([vertex[2] for vertex in colored_slvo]))))\n",
    "print(\"N                      : {}\".format(N))\n",
    "print(\"S                      : {}\".format(S))\n",
    "print(\"K                      : {}\".format(K))\n",
    "print(\"DIST                   : {}\".format(DIST))"
   ]
  },
  {
   "cell_type": "markdown",
   "metadata": {},
   "source": [
    "### Custom"
   ]
  },
  {
   "cell_type": "code",
   "execution_count": 27,
   "metadata": {},
   "outputs": [
    {
     "name": "stdout",
     "output_type": "stream",
     "text": [
      "Vertex: 59, Color:  1, Original Degree: 79, Deleted Degree:  1\n",
      "Vertex: 58, Color:  2, Original Degree: 79, Deleted Degree:  2\n",
      "Vertex: 57, Color:  3, Original Degree: 72, Deleted Degree:  3\n",
      "Vertex: 53, Color:  4, Original Degree: 80, Deleted Degree:  4\n",
      "Vertex: 51, Color:  5, Original Degree: 77, Deleted Degree:  5\n",
      "Vertex: 49, Color:  6, Original Degree: 80, Deleted Degree:  6\n",
      "Vertex: 48, Color:  7, Original Degree: 81, Deleted Degree:  7\n",
      "Vertex: 47, Color:  8, Original Degree: 76, Deleted Degree:  8\n",
      "Vertex: 44, Color:  9, Original Degree: 81, Deleted Degree:  9\n",
      "Vertex: 43, Color: 10, Original Degree: 82, Deleted Degree: 10\n",
      "Vertex: 42, Color: 11, Original Degree: 78, Deleted Degree: 11\n",
      "Vertex: 41, Color: 12, Original Degree: 81, Deleted Degree: 12\n",
      "Vertex: 38, Color: 13, Original Degree: 76, Deleted Degree: 13\n",
      "Vertex: 36, Color: 14, Original Degree: 82, Deleted Degree: 14\n",
      "Vertex: 35, Color: 15, Original Degree: 87, Deleted Degree: 15\n",
      "Vertex: 34, Color: 16, Original Degree: 88, Deleted Degree: 16\n",
      "Vertex: 33, Color: 17, Original Degree: 84, Deleted Degree: 17\n",
      "Vertex: 32, Color: 18, Original Degree: 88, Deleted Degree: 18\n",
      "Vertex: 31, Color: 19, Original Degree: 81, Deleted Degree: 19\n",
      "Vertex: 29, Color: 20, Original Degree: 87, Deleted Degree: 20\n",
      "Vertex: 28, Color: 21, Original Degree: 85, Deleted Degree: 21\n",
      "Vertex: 27, Color: 22, Original Degree: 85, Deleted Degree: 22\n",
      "Vertex: 26, Color: 23, Original Degree: 85, Deleted Degree: 23\n",
      "Vertex: 25, Color: 24, Original Degree: 86, Deleted Degree: 24\n",
      "Vertex: 24, Color: 25, Original Degree: 85, Deleted Degree: 25\n",
      "Vertex: 23, Color: 26, Original Degree: 82, Deleted Degree: 26\n",
      "Vertex: 22, Color: 27, Original Degree: 86, Deleted Degree: 27\n",
      "Vertex: 21, Color: 28, Original Degree: 88, Deleted Degree: 28\n",
      "Vertex: 20, Color: 29, Original Degree: 87, Deleted Degree: 29\n",
      "Vertex: 19, Color: 30, Original Degree: 86, Deleted Degree: 30\n",
      "Vertex: 18, Color: 31, Original Degree: 83, Deleted Degree: 31\n",
      "Vertex: 17, Color: 32, Original Degree: 86, Deleted Degree: 32\n",
      "Vertex: 16, Color: 33, Original Degree: 88, Deleted Degree: 33\n",
      "Vertex: 15, Color: 34, Original Degree: 86, Deleted Degree: 34\n",
      "Vertex: 14, Color: 35, Original Degree: 88, Deleted Degree: 35\n",
      "Vertex: 13, Color: 36, Original Degree: 92, Deleted Degree: 36\n",
      "Vertex: 12, Color: 37, Original Degree: 91, Deleted Degree: 37\n",
      "Vertex: 11, Color: 38, Original Degree: 92, Deleted Degree: 38\n",
      "Vertex: 10, Color: 39, Original Degree: 87, Deleted Degree: 39\n",
      "Vertex:  9, Color: 40, Original Degree: 90, Deleted Degree: 40\n",
      "Vertex:  8, Color: 41, Original Degree: 89, Deleted Degree: 41\n",
      "Vertex:  7, Color: 42, Original Degree: 89, Deleted Degree: 42\n",
      "Vertex:  6, Color: 43, Original Degree: 93, Deleted Degree: 43\n",
      "Vertex:  5, Color: 44, Original Degree: 92, Deleted Degree: 44\n",
      "Vertex:  4, Color: 45, Original Degree: 95, Deleted Degree: 45\n",
      "Vertex:  3, Color: 46, Original Degree: 91, Deleted Degree: 46\n",
      "Vertex:  2, Color: 47, Original Degree: 90, Deleted Degree: 47\n",
      "Vertex:  1, Color: 48, Original Degree: 91, Deleted Degree: 48\n",
      "Vertex:  0, Color: 49, Original Degree: 94, Deleted Degree: 49\n",
      "Vertex: 45, Color:  1, Original Degree: 73, Deleted Degree: 49\n",
      "Vertex: 39, Color:  0, Original Degree: 72, Deleted Degree: 50\n",
      "Vertex: 46, Color:  2, Original Degree: 74, Deleted Degree: 50\n",
      "Vertex: 73, Color:  5, Original Degree: 66, Deleted Degree: 50\n",
      "Vertex: 40, Color:  8, Original Degree: 73, Deleted Degree: 51\n",
      "Vertex: 62, Color:  3, Original Degree: 71, Deleted Degree: 53\n",
      "Vertex: 85, Color:  1, Original Degree: 31, Deleted Degree: 29\n",
      "Vertex: 75, Color: 13, Original Degree: 67, Deleted Degree: 52\n",
      "Vertex: 60, Color:  5, Original Degree: 72, Deleted Degree: 53\n",
      "Vertex: 54, Color:  6, Original Degree: 72, Deleted Degree: 54\n",
      "Vertex: 30, Color: 50, Original Degree: 79, Deleted Degree: 55\n",
      "Vertex: 65, Color:  7, Original Degree: 66, Deleted Degree: 53\n",
      "Vertex: 92, Color:  1, Original Degree: 26, Deleted Degree: 25\n",
      "Vertex: 78, Color:  4, Original Degree: 52, Deleted Degree: 47\n",
      "Vertex: 66, Color:  6, Original Degree: 65, Deleted Degree: 54\n",
      "Vertex: 55, Color:  0, Original Degree: 70, Deleted Degree: 56\n",
      "Vertex: 72, Color:  7, Original Degree: 47, Deleted Degree: 43\n",
      "Vertex: 70, Color:  0, Original Degree: 70, Deleted Degree: 56\n",
      "Vertex: 94, Color:  1, Original Degree: 23, Deleted Degree: 22\n",
      "Vertex: 84, Color:  3, Original Degree: 47, Deleted Degree: 42\n",
      "Vertex: 52, Color: 10, Original Degree: 67, Deleted Degree: 54\n",
      "Vertex: 97, Color:  0, Original Degree:  9, Deleted Degree:  8\n",
      "Vertex: 64, Color:  4, Original Degree: 65, Deleted Degree: 57\n",
      "Vertex: 87, Color:  1, Original Degree: 42, Deleted Degree: 40\n",
      "Vertex: 81, Color:  2, Original Degree: 57, Deleted Degree: 50\n",
      "Vertex: 83, Color:  3, Original Degree: 50, Deleted Degree: 48\n",
      "Vertex: 82, Color:  5, Original Degree: 38, Deleted Degree: 34\n",
      "Vertex: 79, Color:  1, Original Degree: 52, Deleted Degree: 47\n",
      "Vertex: 77, Color:  5, Original Degree: 52, Deleted Degree: 46\n",
      "Vertex: 56, Color: 50, Original Degree: 72, Deleted Degree: 62\n",
      "Vertex: 96, Color:  1, Original Degree:  9, Deleted Degree:  8\n",
      "Vertex: 68, Color:  6, Original Degree: 59, Deleted Degree: 53\n",
      "Vertex: 86, Color:  0, Original Degree: 36, Deleted Degree: 34\n",
      "Vertex: 69, Color:  3, Original Degree: 62, Deleted Degree: 57\n",
      "Vertex: 76, Color:  0, Original Degree: 52, Deleted Degree: 47\n",
      "Vertex: 71, Color: 11, Original Degree: 64, Deleted Degree: 60\n",
      "Vertex: 80, Color:  9, Original Degree: 47, Deleted Degree: 45\n",
      "Vertex: 93, Color:  3, Original Degree: 38, Deleted Degree: 34\n",
      "Vertex: 90, Color:  4, Original Degree: 28, Deleted Degree: 27\n",
      "Vertex: 50, Color: 13, Original Degree: 69, Deleted Degree: 65\n",
      "Vertex: 91, Color:  1, Original Degree: 23, Deleted Degree: 22\n",
      "Vertex: 67, Color:  6, Original Degree: 69, Deleted Degree: 67\n",
      "Vertex: 89, Color:  1, Original Degree: 36, Deleted Degree: 33\n",
      "Vertex: 74, Color: 17, Original Degree: 67, Deleted Degree: 65\n",
      "Vertex: 95, Color:  0, Original Degree: 24, Deleted Degree: 23\n",
      "Vertex: 37, Color: 51, Original Degree: 81, Deleted Degree: 79\n",
      "Vertex: 88, Color:  0, Original Degree:  9, Deleted Degree:  8\n",
      "Vertex: 61, Color: 17, Original Degree: 66, Deleted Degree: 66\n",
      "Vertex: 88, Color:  0, Original Degree:  9, Deleted Degree:  9\n"
     ]
    },
    {
     "data": {
      "image/png": "[encoded data removed]",
      "text/plain": [
       "<Figure size 432x288 with 1 Axes>"
      ]
     },
     "metadata": {},
     "output_type": "display_data"
    },
    {
     "name": "stdout",
     "output_type": "stream",
     "text": [
      "Max Degree When Deleted: 79\n",
      "Colors Used            : 52\n",
      "N                      : 100\n",
      "S                      : 500\n",
      "K                      : 10\n",
      "DIST                   : UNIFORM\n"
     ]
    }
   ],
   "source": [
    "%matplotlib inline\n",
    "\n",
    "conflicts = gen_all_pairwise_conflicts(attendees_sessions_custom)\n",
    "conflicts_adj_list = gen_unique_conflicts_adj_list(conflicts, N)\n",
    "\n",
    "colored_slvo, reverse_deleted, coloring_order, degrees_deleted = svlo_color_adj_list(conflicts_adj_list, logger=True)\n",
    "\n",
    "plt.scatter(coloring_order, degrees_deleted)\n",
    "plt.xlabel(\"Order Colored\")\n",
    "plt.ylabel(\"Degree When Deleted\")\n",
    "plt.show()\n",
    "\n",
    "print(\"Max Degree When Deleted: {}\".format(max([del_degree for vertex, del_degree in reverse_deleted])))\n",
    "print(\"Colors Used            : {}\".format(len(set([vertex[2] for vertex in colored_slvo]))))\n",
    "print(\"N                      : {}\".format(N))\n",
    "print(\"S                      : {}\".format(S))\n",
    "print(\"K                      : {}\".format(K))\n",
    "print(\"DIST                   : {}\".format(DIST))"
   ]
  },
  {
   "cell_type": "markdown",
   "metadata": {},
   "source": [
    "## SLVO: Asymptotic Bounds Analysis\n",
    "\n",
    "### Time"
   ]
  },
  {
   "cell_type": "code",
   "execution_count": 28,
   "metadata": {},
   "outputs": [],
   "source": [
    "import time\n",
    "def run_and_time_slvo(N, S, K):\n",
    "    attendees_sessions_uniform = generate_uniform_dist(N, S, K)\n",
    "    conflicts = gen_all_pairwise_conflicts(attendees_sessions_uniform)\n",
    "    conflicts_adj_list = gen_unique_conflicts_adj_list(conflicts, N)\n",
    "    \n",
    "    start = time.time()\n",
    "    colored_slvo, reverse_deleted, coloring_order, degrees_deleted = svlo_color_adj_list(conflicts_adj_list, logger=False)\n",
    "    elapsed = time.time()-start\n",
    "    \n",
    "    num_verticies = N\n",
    "    num_edges = sum([len(adj) for adj in conflicts_adj_list])\n",
    "    \n",
    "    print(\"elapsed: {} for verticies:{}, edges:{} on SLVO\".format(elapsed, num_verticies, num_edges))\n",
    "    return (num_verticies, num_edges, elapsed)\n",
    "\n",
    "def plot_tuples(tup_arr, xlabel, ylabel, title):\n",
    "    x, y = zip(*tup_arr)\n",
    "    plt.plot(x, y)\n",
    "    plt.xlabel(xlabel)\n",
    "    plt.ylabel(ylabel)\n",
    "    plt.title(title)\n",
    "    plt.show()"
   ]
  },
  {
   "cell_type": "code",
   "execution_count": 29,
   "metadata": {},
   "outputs": [
    {
     "name": "stdout",
     "output_type": "stream",
     "text": [
      "elapsed: 0.00043320655822753906 for verticies:50, edges:822 on SLVO\n",
      "elapsed: 0.0026929378509521484 for verticies:100, edges:5132 on SLVO\n",
      "elapsed: 0.006565093994140625 for verticies:150, edges:14116 on SLVO\n",
      "elapsed: 0.014105081558227539 for verticies:200, edges:26994 on SLVO\n",
      "elapsed: 0.02191305160522461 for verticies:250, edges:44272 on SLVO\n",
      "elapsed: 0.09020495414733887 for verticies:500, edges:163562 on SLVO\n"
     ]
    },
    {
     "data": {
      "image/png": "[encoded data removed]",
      "text/plain": [
       "<Figure size 432x288 with 1 Axes>"
      ]
     },
     "metadata": {},
     "output_type": "display_data"
    },
    {
     "data": {
      "image/png": "[encoded data removed]",
      "text/plain": [
       "<Figure size 432x288 with 1 Axes>"
      ]
     },
     "metadata": {},
     "output_type": "display_data"
    }
   ],
   "source": [
    "N_arr = [50, 100, 150, 200, 250, 500]\n",
    "S_arr = [100, 200, 300, 400, 500, 1000]\n",
    "K_arr = [5, 10, 15, 20, 25, 30]\n",
    "\n",
    "NSK = zip(N_arr, S_arr, K_arr)\n",
    "results = [run_and_time_slvo(n, s, k) for n, s, k in NSK]\n",
    "verticies, edges, elapsed = zip(*results)\n",
    "plot_tuples(zip(verticies, elapsed), \"Verticies\", \"Time\", \"Time v. Verticies\")\n",
    "plot_tuples(zip(edges, elapsed), \"Edges\", \"Time\", \"Time v. Edges\")"
   ]
  },
  {
   "cell_type": "markdown",
   "metadata": {},
   "source": [
    "According to Dr. Matula's paper provided to us, the graph should be colored in O(V+E) time. This prediction for E (edges) appears to hold. As E increases, the time appears to be asymptotically bound by O(E). However, the prediction for V (verticies) does not seem to hold. As V increases, the time appears to be asymptotically bound by O(V^2) which is not the intended result. Stepping through th code, it appears as though there may be some inefficiencies that could be reduced (such as vertex deletion), but so far, I have only managed to keep crashing the code. "
   ]
  },
  {
   "cell_type": "markdown",
   "metadata": {},
   "source": [
    "### Space\n",
    "\n",
    "The only extra data we need to store here, besides the stack, is the in-order list of verticies that are deleted. This will eventually require we use O(V) extra space, where V = number of verticies. This is the space complexity predicted in Dr. Matula''s paper. "
   ]
  },
  {
   "cell_type": "markdown",
   "metadata": {},
   "source": [
    "## My First Failed Attempt (Not Part of Assignment)"
   ]
  },
  {
   "cell_type": "markdown",
   "metadata": {},
   "source": [
    "I figured it might be wise to include this as a \"lesson learned\", this was a result of my first stab at the Smallest Vertex Last Ordering algorithm. I was able to reuse multiply components, and the overall structure is the same as it is now. I missed one key part of the assignment that said to \"recursively delete a vertex of smallest degree, updating the third and forth fields of each data node to relate to the remaining graph, adding the vertex deleted to the ordered list of vertices deleted\" with the key workd being **recursively**. I instead chose the smallest degree vertex of the entire graph, as opposed to the smallese degree vertex adjacent to the current one. I then realized we wanted a greedy algorithm and changed my code to the proper solution."
   ]
  },
  {
   "cell_type": "code",
   "execution_count": 30,
   "metadata": {},
   "outputs": [],
   "source": [
    "def smallest_session_degree_idx(slvo):\n",
    "    smallest_val = 1000000000\n",
    "    smallest_idx = -1\n",
    "    for idx, session in enumerate(slvo):\n",
    "        #only look at verticies that havent been deleted\n",
    "        if session[2] is not -1:\n",
    "            if len(session[1]) < smallest_val:\n",
    "                smallest_val = len(session[1])\n",
    "                smallest_idx = idx\n",
    "    return smallest_idx\n",
    "\n",
    "slvo = [[session, set(conflicts), len(conflicts)] for session, conflicts in enumerate(sessions_conflicts_adj_list)]\n",
    "\n",
    "deleted = []\n",
    "\n",
    "#delete by smallest vertex\n",
    "while True:\n",
    "    #get smallest degree vertex\n",
    "    smallest_degree_idx = smallest_session_degree_idx(slvo)\n",
    "    if smallest_degree_idx is -1:\n",
    "        break #deleted all of them\n",
    "        \n",
    "    #delete smallest degree\n",
    "    deleted.append(smallest_degree_idx)\n",
    "    slvo[smallest_degree_idx][2] = -1\n",
    "    \n",
    "    \n",
    "    #remove the vertex of smallest degree from any vertex it may be connected to (that hasnt been deleted)\n",
    "    for idx in range(len(slvo)):\n",
    "        #preserve degree when deleted\n",
    "        if slvo[idx][2] is not -1:\n",
    "            if smallest_degree_idx in slvo[idx][1]:\n",
    "                slvo[idx][1].remove(smallest_degree_idx)\n",
    "                slvo[idx][2] = len(slvo[idx][1])\n",
    "\n",
    "\n",
    "# color verticies by reverse of order deleted\n",
    "# first vertex deleted has color 0\n",
    "#last vertex deleted has greatest color\n",
    "reverse_deleted = list(reversed(deleted))\n",
    "for idx, vertex in enumerate(reverse_deleted):\n",
    "    slvo[vertex][2] = idx\n",
    "\n",
    "oc = []\n",
    "dd = []\n",
    "for vertex in slvo:\n",
    "    order_colored = vertex[2] #order colored is just the code for the color\n",
    "    degree_when_deleted = len(vertex[1]) #set of adacent nodes (len==degree) is not modivied after the vertex is deleted\n",
    "    oc.append(order_colored)\n",
    "    dd.append(degree_when_deleted)"
   ]
  }
 ],
 "metadata": {
  "kernelspec": {
   "display_name": "Python 3",
   "language": "python",
   "name": "python3"
  },
  "language_info": {
   "codemirror_mode": {
    "name": "ipython",
    "version": 3
   },
   "file_extension": ".py",
   "mimetype": "text/x-python",
   "name": "python",
   "nbconvert_exporter": "python",
   "pygments_lexer": "ipython3",
   "version": "3.6.4"
  }
 },
 "nbformat": 4,
 "nbformat_minor": 2
}
